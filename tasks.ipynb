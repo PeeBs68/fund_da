{
 "cells": [
  {
   "cell_type": "markdown",
   "metadata": {},
   "source": [
    "# Fundamentals of Data Analysis Tasks\n",
    "\n",
    "Phelim Barry\n",
    "\n",
    "***"
   ]
  },
  {
   "cell_type": "markdown",
   "metadata": {},
   "source": [
    "***Task1***\n",
    "\n",
    ">The Collatz conjecture is a famous unsolved problem in mathematics. The problem is to prove that if you start with any positive integer $x$ and repeatedly apply the function $f(x)$ below, you always get stuck in the repeating sequence 1, 4, 2, 1, 4, 2, . . .   \n",
    "This task is to verify, using Python, that the conjecture is true for the first 10,000 positive integers.\n",
    "\n",
    "If $x$ is even, $f(x) = x ÷ 2$   \n",
    "If $x$ is odd, $f(x) = 3x + 1$"
   ]
  },
  {
   "cell_type": "markdown",
   "metadata": {},
   "source": [
    "Define a function for $f(x)$"
   ]
  },
  {
   "cell_type": "code",
   "execution_count": 52,
   "metadata": {},
   "outputs": [],
   "source": [
    "def f(x):\n",
    "    if x % 2 == 0:\n",
    "        return x // 2\n",
    "    else:\n",
    "        return (3 * x) + 1"
   ]
  },
  {
   "cell_type": "markdown",
   "metadata": {},
   "source": [
    "Define a function to check the $x$ value. If after applying the formula to the number, we arrive at a value equal to 1 then we have proved for that number and move on to the next number. If we reach the number 10001 then we have proved for all numbers between 1 and 10000"
   ]
  },
  {
   "cell_type": "code",
   "execution_count": 53,
   "metadata": {},
   "outputs": [],
   "source": [
    "def collatz(x):\n",
    "    while x != 1:\n",
    "        print (x, end=\", \")\n",
    "        x = f(x)\n",
    "    print (x)"
   ]
  },
  {
   "cell_type": "markdown",
   "metadata": {},
   "source": [
    "Run the function and print out the values of $x$ before and during execution"
   ]
  },
  {
   "cell_type": "code",
   "execution_count": 54,
   "metadata": {},
   "outputs": [
    {
     "name": "stdout",
     "output_type": "stream",
     "text": [
      "Original Number = 1\n",
      "1\n",
      "Original Number = 2\n",
      "2, 1\n",
      "Original Number = 3\n",
      "3, 10, 5, 16, 8, 4, 2, 1\n",
      "Original Number = 4\n",
      "4, 2, 1\n",
      "Original Number = 5\n",
      "5, 16, 8, 4, 2, 1\n",
      "Original Number = 6\n",
      "6, 3, 10, 5, 16, 8, 4, 2, 1\n",
      "Original Number = 7\n",
      "7, 22, 11, 34, 17, 52, 26, 13, 40, 20, 10, 5, 16, 8, 4, 2, 1\n",
      "Original Number = 8\n",
      "8, 4, 2, 1\n",
      "Original Number = 9\n",
      "9, 28, 14, 7, 22, 11, 34, 17, 52, 26, 13, 40, 20, 10, 5, 16, 8, 4, 2, 1\n",
      "Original Number = 10\n",
      "10, 5, 16, 8, 4, 2, 1\n"
     ]
    }
   ],
   "source": [
    "# Need to run this in a loop with x in the range 1 to 10000\n",
    "for num in range (1, 11):\n",
    "    print (f'Original Number = {num}')\n",
    "    collatz(num)\n",
    "\n",
    "# If the loop gets to 10001 then we have proved the case"
   ]
  },
  {
   "cell_type": "markdown",
   "metadata": {},
   "source": [
    "If we get this far then we have cycled through the full range of numbers and ended with a value of 1 for eah one indicating that the conjecture is try for this range of numbers."
   ]
  },
  {
   "cell_type": "code",
   "execution_count": 55,
   "metadata": {},
   "outputs": [
    {
     "name": "stdout",
     "output_type": "stream",
     "text": [
      "Number is now equal to 10 so we have proved for all\n"
     ]
    }
   ],
   "source": [
    "print (f'Number is now equal to {num} so we have proved for all')"
   ]
  },
  {
   "cell_type": "markdown",
   "metadata": {},
   "source": [
    "***Task2***\n",
    "\n",
    ">Add Task2 description..."
   ]
  },
  {
   "cell_type": "markdown",
   "metadata": {},
   "source": [
    "***Task3***\n",
    "\n",
    ">Add Task3 description..."
   ]
  },
  {
   "cell_type": "markdown",
   "metadata": {},
   "source": [
    "***\n",
    "\n",
    "## End"
   ]
  }
 ],
 "metadata": {
  "kernelspec": {
   "display_name": "base",
   "language": "python",
   "name": "python3"
  },
  "language_info": {
   "codemirror_mode": {
    "name": "ipython",
    "version": 3
   },
   "file_extension": ".py",
   "mimetype": "text/x-python",
   "name": "python",
   "nbconvert_exporter": "python",
   "pygments_lexer": "ipython3",
   "version": "3.11.4"
  },
  "orig_nbformat": 4
 },
 "nbformat": 4,
 "nbformat_minor": 2
}
