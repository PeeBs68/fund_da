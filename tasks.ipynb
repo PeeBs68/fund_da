{
 "cells": [
  {
   "cell_type": "markdown",
   "metadata": {},
   "source": [
    "# Fundamentals of Data Analysis Tasks\n",
    "\n",
    "Phelim Barry\n",
    "\n",
    "***"
   ]
  },
  {
   "cell_type": "markdown",
   "metadata": {},
   "source": [
    "# Introduction\n",
    "\n",
    "The purpose of this..."
   ]
  },
  {
   "cell_type": "markdown",
   "metadata": {},
   "source": [
    "# Table of Contents\n",
    "\n",
    "1. [Task1](#Task1)\n",
    "2. [Task2](#Task2)\n",
    "3. [Task3](#Task3)\n",
    "4. [Task4](#Task4)\n",
    "5. [Task5](#Task5)\n",
    "6. [References](#References)\n",
    "\n"
   ]
  },
  {
   "cell_type": "markdown",
   "metadata": {},
   "source": [
    "# Task1\n",
    "\n",
    ">The Collatz conjecture is a famous unsolved problem in mathematics. The problem is to prove that if you start with any positive integer $x$ and repeatedly apply the function $f(x)$ below, you always get stuck in the repeating sequence 1, 4, 2, 1, 4, 2, . . .   \n",
    "This task is to verify, using Python, that the conjecture is true for the first 10,000 positive integers.\n",
    "\n",
    "If $x$ is even, $f(x) = x ÷ 2$   \n",
    "If $x$ is odd, $f(x) = 3x + 1$"
   ]
  },
  {
   "cell_type": "markdown",
   "metadata": {},
   "source": [
    "Define a function for $f(x)$ and apply the appropriate formula. Using the modulus operator we can determine if $x$ is even (i.e. no remainder when divided by 2) or else $x$ must be odd."
   ]
  },
  {
   "cell_type": "code",
   "execution_count": 1,
   "metadata": {},
   "outputs": [],
   "source": [
    "def f(x):\n",
    "    if x % 2 == 0:          #x is even\n",
    "        return x // 2\n",
    "    else:                   #x is odd\n",
    "        return (3 * x) + 1"
   ]
  },
  {
   "cell_type": "markdown",
   "metadata": {},
   "source": [
    "Define a function to check the $x$ value. If after applying the formula to the number, we arrive at a value equal to 1 then we have proved for that number and move on to the next number. If we reach the number 10001 then we have proved for all numbers between 1 and 10000"
   ]
  },
  {
   "cell_type": "code",
   "execution_count": 2,
   "metadata": {},
   "outputs": [],
   "source": [
    "def collatz(x):\n",
    "    while x != 1:\n",
    "        x = f(x)            #call the f(x) function"
   ]
  },
  {
   "cell_type": "markdown",
   "metadata": {},
   "source": [
    "Run the function and print a confirmation message once complete."
   ]
  },
  {
   "cell_type": "code",
   "execution_count": 3,
   "metadata": {},
   "outputs": [
    {
     "name": "stdout",
     "output_type": "stream",
     "text": [
      "We have cycled through the values from 1 to 10000 and each time ended with a value of 1 \n",
      "indicating the conjecture is true for the first 10000 positive integers\n"
     ]
    }
   ],
   "source": [
    "# Define start and end range values\n",
    "start_range = 1\n",
    "stop_range = 10001\n",
    "\n",
    "for num in range (start_range, stop_range):\n",
    "    collatz(num)        #call the collatz function\n",
    "\n",
    "print (f'We have cycled through the values from {start_range} to {stop_range-1} and each time ended with a value of 1 \\nindicating the conjecture is true for the first {stop_range-1} positive integers')\n"
   ]
  },
  {
   "cell_type": "markdown",
   "metadata": {},
   "source": [
    "# Task2\n",
    "\n",
    "\n",
    ">The purpose of this task is to give an overview of the penguins data set explaining the types of variables it contains.\n",
    "\n",
    ">We will also suggest the types of variables that should be used to model them in Python giving explanations for the rationale."
   ]
  },
  {
   "cell_type": "markdown",
   "metadata": {},
   "source": [
    "**Overview**\n",
    "\n",
    "The Palmer Penguin Dataset contains measurements of three different species of penguins from three islands in the Palmer Archipelago in Antartica. The data were collected between 2007 and 2009 and made available by researcher Dr. Kristen Gorman and other researchers from the Palmer Research Station.\n",
    "\n",
    "Similar to the Iris dataset it is often used to explore areas of data analysis such as correlation and regression.\n",
    " "
   ]
  },
  {
   "cell_type": "markdown",
   "metadata": {},
   "source": [
    "The dataset is available to view in a number of locations where we could quickly look and see the column names such as from Michael Waskom's $^1$ repository on GitHub. From there we can see that the dataset has seven columns of data containing the following variables:\n",
    "\n",
    "| Variable Name |\n",
    "| --- |\n",
    "| species |\n",
    "| island |\n",
    "| bill_length_mm |\n",
    "| bill_depth_mm |\n",
    "| flipper_length_mm |\n",
    "| body_mass_g |\n",
    "| sex |\n",
    " "
   ]
  },
  {
   "cell_type": "markdown",
   "metadata": {},
   "source": [
    "The dataset is also available directly through seaborn so by importing it we can do some analysis on the data to better understand the amount of data and the different columns."
   ]
  },
  {
   "cell_type": "code",
   "execution_count": 4,
   "metadata": {},
   "outputs": [],
   "source": [
    "# Import seaborn and load the penguins data set into a new dataframe df\n",
    "\n",
    "import seaborn as sns\n",
    "import numpy as np\n",
    "\n",
    "df=sns.load_dataset ('penguins')\n"
   ]
  },
  {
   "cell_type": "code",
   "execution_count": 5,
   "metadata": {},
   "outputs": [
    {
     "data": {
      "text/html": [
       "<div>\n",
       "<style scoped>\n",
       "    .dataframe tbody tr th:only-of-type {\n",
       "        vertical-align: middle;\n",
       "    }\n",
       "\n",
       "    .dataframe tbody tr th {\n",
       "        vertical-align: top;\n",
       "    }\n",
       "\n",
       "    .dataframe thead th {\n",
       "        text-align: right;\n",
       "    }\n",
       "</style>\n",
       "<table border=\"1\" class=\"dataframe\">\n",
       "  <thead>\n",
       "    <tr style=\"text-align: right;\">\n",
       "      <th></th>\n",
       "      <th>species</th>\n",
       "      <th>island</th>\n",
       "      <th>bill_length_mm</th>\n",
       "      <th>bill_depth_mm</th>\n",
       "      <th>flipper_length_mm</th>\n",
       "      <th>body_mass_g</th>\n",
       "      <th>sex</th>\n",
       "    </tr>\n",
       "  </thead>\n",
       "  <tbody>\n",
       "    <tr>\n",
       "      <th>0</th>\n",
       "      <td>Adelie</td>\n",
       "      <td>Torgersen</td>\n",
       "      <td>39.1</td>\n",
       "      <td>18.7</td>\n",
       "      <td>181.0</td>\n",
       "      <td>3750.0</td>\n",
       "      <td>Male</td>\n",
       "    </tr>\n",
       "    <tr>\n",
       "      <th>1</th>\n",
       "      <td>Adelie</td>\n",
       "      <td>Torgersen</td>\n",
       "      <td>39.5</td>\n",
       "      <td>17.4</td>\n",
       "      <td>186.0</td>\n",
       "      <td>3800.0</td>\n",
       "      <td>Female</td>\n",
       "    </tr>\n",
       "    <tr>\n",
       "      <th>2</th>\n",
       "      <td>Adelie</td>\n",
       "      <td>Torgersen</td>\n",
       "      <td>40.3</td>\n",
       "      <td>18.0</td>\n",
       "      <td>195.0</td>\n",
       "      <td>3250.0</td>\n",
       "      <td>Female</td>\n",
       "    </tr>\n",
       "    <tr>\n",
       "      <th>3</th>\n",
       "      <td>Adelie</td>\n",
       "      <td>Torgersen</td>\n",
       "      <td>NaN</td>\n",
       "      <td>NaN</td>\n",
       "      <td>NaN</td>\n",
       "      <td>NaN</td>\n",
       "      <td>NaN</td>\n",
       "    </tr>\n",
       "    <tr>\n",
       "      <th>4</th>\n",
       "      <td>Adelie</td>\n",
       "      <td>Torgersen</td>\n",
       "      <td>36.7</td>\n",
       "      <td>19.3</td>\n",
       "      <td>193.0</td>\n",
       "      <td>3450.0</td>\n",
       "      <td>Female</td>\n",
       "    </tr>\n",
       "    <tr>\n",
       "      <th>...</th>\n",
       "      <td>...</td>\n",
       "      <td>...</td>\n",
       "      <td>...</td>\n",
       "      <td>...</td>\n",
       "      <td>...</td>\n",
       "      <td>...</td>\n",
       "      <td>...</td>\n",
       "    </tr>\n",
       "    <tr>\n",
       "      <th>339</th>\n",
       "      <td>Gentoo</td>\n",
       "      <td>Biscoe</td>\n",
       "      <td>NaN</td>\n",
       "      <td>NaN</td>\n",
       "      <td>NaN</td>\n",
       "      <td>NaN</td>\n",
       "      <td>NaN</td>\n",
       "    </tr>\n",
       "    <tr>\n",
       "      <th>340</th>\n",
       "      <td>Gentoo</td>\n",
       "      <td>Biscoe</td>\n",
       "      <td>46.8</td>\n",
       "      <td>14.3</td>\n",
       "      <td>215.0</td>\n",
       "      <td>4850.0</td>\n",
       "      <td>Female</td>\n",
       "    </tr>\n",
       "    <tr>\n",
       "      <th>341</th>\n",
       "      <td>Gentoo</td>\n",
       "      <td>Biscoe</td>\n",
       "      <td>50.4</td>\n",
       "      <td>15.7</td>\n",
       "      <td>222.0</td>\n",
       "      <td>5750.0</td>\n",
       "      <td>Male</td>\n",
       "    </tr>\n",
       "    <tr>\n",
       "      <th>342</th>\n",
       "      <td>Gentoo</td>\n",
       "      <td>Biscoe</td>\n",
       "      <td>45.2</td>\n",
       "      <td>14.8</td>\n",
       "      <td>212.0</td>\n",
       "      <td>5200.0</td>\n",
       "      <td>Female</td>\n",
       "    </tr>\n",
       "    <tr>\n",
       "      <th>343</th>\n",
       "      <td>Gentoo</td>\n",
       "      <td>Biscoe</td>\n",
       "      <td>49.9</td>\n",
       "      <td>16.1</td>\n",
       "      <td>213.0</td>\n",
       "      <td>5400.0</td>\n",
       "      <td>Male</td>\n",
       "    </tr>\n",
       "  </tbody>\n",
       "</table>\n",
       "<p>344 rows × 7 columns</p>\n",
       "</div>"
      ],
      "text/plain": [
       "    species     island  bill_length_mm  bill_depth_mm  flipper_length_mm  \\\n",
       "0    Adelie  Torgersen            39.1           18.7              181.0   \n",
       "1    Adelie  Torgersen            39.5           17.4              186.0   \n",
       "2    Adelie  Torgersen            40.3           18.0              195.0   \n",
       "3    Adelie  Torgersen             NaN            NaN                NaN   \n",
       "4    Adelie  Torgersen            36.7           19.3              193.0   \n",
       "..      ...        ...             ...            ...                ...   \n",
       "339  Gentoo     Biscoe             NaN            NaN                NaN   \n",
       "340  Gentoo     Biscoe            46.8           14.3              215.0   \n",
       "341  Gentoo     Biscoe            50.4           15.7              222.0   \n",
       "342  Gentoo     Biscoe            45.2           14.8              212.0   \n",
       "343  Gentoo     Biscoe            49.9           16.1              213.0   \n",
       "\n",
       "     body_mass_g     sex  \n",
       "0         3750.0    Male  \n",
       "1         3800.0  Female  \n",
       "2         3250.0  Female  \n",
       "3            NaN     NaN  \n",
       "4         3450.0  Female  \n",
       "..           ...     ...  \n",
       "339          NaN     NaN  \n",
       "340       4850.0  Female  \n",
       "341       5750.0    Male  \n",
       "342       5200.0  Female  \n",
       "343       5400.0    Male  \n",
       "\n",
       "[344 rows x 7 columns]"
      ]
     },
     "execution_count": 5,
     "metadata": {},
     "output_type": "execute_result"
    }
   ],
   "source": [
    "# print the dataframe to view the data\n",
    "\n",
    "df\n"
   ]
  },
  {
   "cell_type": "markdown",
   "metadata": {},
   "source": [
    "From this we can see that species, island and sex contain categorical data while the remaining seem to contain numerical data."
   ]
  },
  {
   "cell_type": "markdown",
   "metadata": {},
   "source": [
    "We can then use the ```unique``` command to list the full set of values in each column containing categorical variables..."
   ]
  },
  {
   "cell_type": "code",
   "execution_count": 6,
   "metadata": {},
   "outputs": [
    {
     "name": "stdout",
     "output_type": "stream",
     "text": [
      "The values in species column are ['Adelie' 'Chinstrap' 'Gentoo']\n",
      "The values in island column are ['Torgersen' 'Biscoe' 'Dream']\n",
      "The values in sex column are ['Male' 'Female' nan]\n"
     ]
    }
   ],
   "source": [
    "#x = df.species.unique()\n",
    "print(f'The values in species column are {df.species.unique()}')\n",
    "print(f'The values in island column are {df.island.unique()}')\n",
    "print(f'The values in sex column are {df.sex.unique()}')\n"
   ]
  },
  {
   "cell_type": "markdown",
   "metadata": {},
   "source": [
    "Categorical variable types are used when the variable can only be one of a specific list of values or used to describe qualitative data. In the penguins dataset the three categorical variables have very specific values.   \n",
    "Species has three values: Adelie, Chinstrap and Gentoo. Island also has three values: Biscoe, Dream and Torgersen. Sex has two values: male and female.   \n",
    "All three of these variables can be described as nominal as they are being used to name something.   \n",
    "\n",
    "\n",
    "\n",
    "Numeric variable types are also known as quantitative variables because they typically are used to measure something using a number value. The penguins dataset contains four numeric variables with three measured in millimeters and one measured in grams. These are continuous variables and can be further broken down and described as ratio variables because they cantain numbers that have measurable differences that can be determined such as the differences in lengths, weights etc. Given that all four of the variables are being used to measure something they would be considered to be using real numbers. The presence of decimal places also points to them being real numbers."
   ]
  },
  {
   "cell_type": "markdown",
   "metadata": {},
   "source": [
    "Based on the analysis above we can determine that the dataset contains the following variables and data types."
   ]
  },
  {
   "cell_type": "markdown",
   "metadata": {},
   "source": [
    "| Variable Name | Type | Description |\n",
    "| --- | --- | --- |\n",
    "| species | categorical | penguin species - Adelie, Chinstrap or Gentoo |\n",
    "| island | categorical | island name - Biscoe, Dream or Torgersen |\n",
    "| bill_length_mm | numeric/real | penguin bill length measured in mm |\n",
    "| bill_depth_mm | numeric/real | penguin bill depth measured in mm |\n",
    "| flipper_length_mm | numeric/real | penguin flipper length measured in mm |\n",
    "| body_mass_g | numeric/real | penguin body mass measured in grams |\n",
    "| sex | categorical | penguin sex - male or female |"
   ]
  },
  {
   "cell_type": "markdown",
   "metadata": {},
   "source": [
    "**Suggested Variable Types in Python**\n",
    "\n",
    "To model each of the variables in Python the following data types are suggested...\n",
    "\n",
    "\n",
    "| Variable Name | Type | Python Variable Type |\n",
    "| --- | --- | --- |\n",
    "| species | categorical | string |\n",
    "| island | categorical | string |\n",
    "| sex | categorical | string |\n",
    "| bill_length | numeric/real | float |\n",
    "| bill_depth | numeric/real | float |\n",
    "| flipper_length | numeric/real | float |\n",
    "| body_mass | numeric/real | float |\n",
    "\n",
    "Categorical variables typically only contain a limited number of possible values and would not be used to perform any mathematical operations. They can contain alpha characters, numerica values or even special characters but usually would not contain numbers only. Such variables are stored as type ```string``` or ```str``` in Python.   \n",
    "\n",
    "Species, Island and sex can all be modeled as type ```str```. All three variables contain alpha characters and are a small set of fixed values. \n",
    "\n",
    "Numeric values in python usually are defined as type ```int``` or ```floating point``` (can also be complex). ```int``` variable types are whole numbers with no decimal places. They are ideal for performing addition or subtraction but if we are to perform any arithmetic involving division such as calculating means or average values, then our calculated value would turn into a ```float``` by default python logic. ```float``` or floating-point variables are used to store values with decimal points. Arithmetic on float values will always result in another float value and will display a value after the decimal point even if the value is $.0$.   \n",
    "\n",
    "With this in mind it would be best to model bill_length and bill_depth as type ```float``` because both contain decimal values. \n",
    "flipper_length and body_mass could be stored as ```int``` variables as they do not contain decimals however if we needed to convert the values to centimeters or kilograms then that would introduce decimal places so it would be best to store them as ```float``` also."
   ]
  },
  {
   "cell_type": "markdown",
   "metadata": {},
   "source": [
    "In total, there are 344 rows of data in the dataset. However, unlike the iris dataset, the penguins dataset has some missing values which show up as 'NaN' when the data is imported. These can be found using the ```isnull().sum()``` command as follows:"
   ]
  },
  {
   "cell_type": "code",
   "execution_count": 7,
   "metadata": {},
   "outputs": [
    {
     "data": {
      "text/plain": [
       "species               0\n",
       "island                0\n",
       "bill_length_mm        2\n",
       "bill_depth_mm         2\n",
       "flipper_length_mm     2\n",
       "body_mass_g           2\n",
       "sex                  11\n",
       "dtype: int64"
      ]
     },
     "execution_count": 7,
     "metadata": {},
     "output_type": "execute_result"
    }
   ],
   "source": [
    "df.isnull().sum()\n"
   ]
  },
  {
   "cell_type": "markdown",
   "metadata": {},
   "source": [
    "When analysing the data these will need to be taken into consideration and dealt with appropriately. For example, "
   ]
  },
  {
   "cell_type": "markdown",
   "metadata": {},
   "source": [
    "# Task3\n",
    "\n",
    ">For each of the variables in the penguins data set, suggest what probability distribution from the numpy random distributions list is the most appropriate to model the variable.\n",
    "\n",
    "The dataset contains the following variables:\n",
    "| Variable Name |\n",
    "| --- |\n",
    "| species |\n",
    "| island |\n",
    "| bill_length_mm |\n",
    "| bill_depth_mm |\n",
    "| flipper_length_mm |\n",
    "| body_mass_g |\n",
    "| sex |"
   ]
  },
  {
   "cell_type": "markdown",
   "metadata": {},
   "source": [
    "### Species ###  \n",
    "We can see that the species variable is categorical and can only contain one of three possible values - Gentoo, Adelie or Chinstrap. The data shows that the numbers are not equally distributed   \n",
    "\n",
    "    Adelie - 152 (44%)   \n",
    "    Gentoo - 68 (20%)   \n",
    "    Chinstrap - 124 (36%)      \n",
    "\n",
    "To model this data we would use a multinomial distribution and include weighting to closely replicate the original data accordingly. \n"
   ]
  },
  {
   "cell_type": "code",
   "execution_count": 8,
   "metadata": {},
   "outputs": [
    {
     "name": "stdout",
     "output_type": "stream",
     "text": [
      "Count = 10000\n",
      "Random number of Adelie = 4374\n",
      "Random number of Gentoo = 1989\n",
      "Random number of Chinstrap = 3637\n"
     ]
    }
   ],
   "source": [
    "# model species variable using multinomial distribution\n",
    "rng = np.random.default_rng()\n",
    "species_prob = rng.multinomial(10000, [0.44, 0.20, 0.36])\n",
    "\n",
    "print ('Count = 10000')\n",
    "print (f'Random number of Adelie = {species_prob[0]}')\n",
    "print (f'Random number of Gentoo = {species_prob[1]}')\n",
    "print (f'Random number of Chinstrap = {species_prob[2]}')"
   ]
  },
  {
   "cell_type": "markdown",
   "metadata": {},
   "source": [
    "### Island ###  \n",
    "Similar to the species variable, the island variable is also categorical and again can only contain one of three possible values - Biscoe, Dream or Torgersen. The data shows that the numbers are not equally distributed   \n",
    "\n",
    "    Biscoe - 168 (49%)   \n",
    "    Dream - 124 (36%)   \n",
    "    Torgersen - 52 (15%)      \n",
    "\n",
    "To model this data we would again use a multinomial distribution and include weighting to closely replicate the original data accordingly. "
   ]
  },
  {
   "cell_type": "code",
   "execution_count": 9,
   "metadata": {},
   "outputs": [
    {
     "name": "stdout",
     "output_type": "stream",
     "text": [
      "Count = 10000\n",
      "Random number of Biscoe = 4885\n",
      "Random number of Dream = 3571\n",
      "Random number of Torgersen = 1544\n"
     ]
    }
   ],
   "source": [
    "# model island variable using multinomial distribution\n",
    "rng = np.random.default_rng()\n",
    "island_prob = rng.multinomial(10000, [0.49, 0.36, 0.15])\n",
    "\n",
    "print ('Count = 10000')\n",
    "print (f'Random number of Biscoe = {island_prob[0]}')\n",
    "print (f'Random number of Dream = {island_prob[1]}')\n",
    "print (f'Random number of Torgersen = {island_prob[2]}')\n"
   ]
  },
  {
   "cell_type": "markdown",
   "metadata": {},
   "source": [
    "### Sex ###  \n",
    "We can see that the sex variable only contains two possible values - male or female - meaning the data is discrete, and each sample is independent of each other. We can also see that there seems an almost equal possibility of a penguin being either male or female.\n",
    "\n",
    "Need to add data here for count of male/female\n",
    "\n",
    "With these details in mind we could model the data using a binomial distribution."
   ]
  },
  {
   "cell_type": "code",
   "execution_count": 10,
   "metadata": {},
   "outputs": [
    {
     "name": "stdout",
     "output_type": "stream",
     "text": [
      "count = 10000\n",
      "Random number of males = 4898\n",
      "Random number of females = 5102\n"
     ]
    }
   ],
   "source": [
    "# model sex variable using binomial distributions\n",
    "rng = np.random.default_rng()\n",
    "\n",
    "n, p = 1, .5  # n = number of trials (success=male, failure=female), p = probability of each trial (50/50 or .5)\n",
    "sex_prob = rng.binomial(n, p, 10000)\n",
    "\n",
    "# Print results\n",
    "male = np.sum(sex_prob == 1)\n",
    "female = np.sum(sex_prob == 0)\n",
    "print ('count = 10000')\n",
    "print (f'Random number of males = {male}')\n",
    "print (f'Random number of females = {female}')"
   ]
  },
  {
   "cell_type": "markdown",
   "metadata": {},
   "source": [
    "### Body Mass\n",
    "\n",
    "Body Mass is a continuous variable...so to view the data we can plot a histogram..."
   ]
  },
  {
   "cell_type": "code",
   "execution_count": 11,
   "metadata": {},
   "outputs": [
    {
     "data": {
      "image/png": "[encoded data removed]",
      "text/plain": [
       "<Figure size 640x480 with 1 Axes>"
      ]
     },
     "metadata": {},
     "output_type": "display_data"
    }
   ],
   "source": [
    "# Histogram code\n",
    "import matplotlib.pyplot as plt\n",
    "\n",
    "# Create a list just for Body Mass and generate a histogram\n",
    "body_mass_l = []\n",
    "for x in df['body_mass_g']:\n",
    "    body_mass_l.append(x)\n",
    "\n",
    "# Add title and labels\n",
    "#plt.title(\"Body Mass\")\n",
    "#plt.xlabel(\"Weight (grams)\")\n",
    "#plt.ylabel(\"Frequency\")\n",
    "plt.hist(body_mass_l);\n",
    "#plt.show()"
   ]
  },
  {
   "cell_type": "markdown",
   "metadata": {},
   "source": [
    "As we can see the histogram is right skewed...in order to better visualise the data we can plot a new histogram by penguin type..."
   ]
  },
  {
   "cell_type": "code",
   "execution_count": 12,
   "metadata": {},
   "outputs": [
    {
     "data": {
      "image/png": "[encoded data removed]",
      "text/plain": [
       "<Figure size 640x480 with 1 Axes>"
      ]
     },
     "metadata": {},
     "output_type": "display_data"
    }
   ],
   "source": [
    "# Split out by species\n",
    "gentoo_l=df.loc[df[\"species\"]==\"Gentoo\"]\n",
    "chinstrap_l=df.loc[df[\"species\"]==\"Chinstrap\"]\n",
    "adelie_l=df.loc[df[\"species\"]==\"Adelie\"]\n",
    "\n",
    "# Sort the data\n",
    "#gentoo_l.sort_values(\"body_mass_g\")\n",
    "#chinstrap_l.sort_values(\"body_mass_g\")\n",
    "#adelie_l.sort_values(\"body_mass_g\")\n",
    "\n",
    "# Add title and labels\n",
    "plt.title(\"Body Mass Comparison\")\n",
    "plt.xlabel(\"Weight (g)\")\n",
    "plt.ylabel(\"Frequency\")\n",
    "# create the plots\n",
    "plt.hist(gentoo_l[\"body_mass_g\"],label='Gentoo')\n",
    "plt.hist(adelie_l[\"body_mass_g\"],label='Adelie')\n",
    "plt.hist(chinstrap_l[\"body_mass_g\"],label='Chinstrap')\n",
    "plt.legend();\n"
   ]
  },
  {
   "cell_type": "markdown",
   "metadata": {},
   "source": [
    "The Body Mass histogram now looks much more normally distributed when viewed by species. To model this data we could now use the Normal Distribution   \n",
    "\n",
    "The below formula from numpy.org  \n",
    "mu, sigma = 0, 0.1 # mean and standard deviation\n",
    "s = np.random.default_rng().normal(mu, sigma, 1000)"
   ]
  },
  {
   "cell_type": "markdown",
   "metadata": {},
   "source": [
    "# Split body_mass_g further by splitting by sex"
   ]
  },
  {
   "cell_type": "code",
   "execution_count": 13,
   "metadata": {},
   "outputs": [
    {
     "data": {
      "image/png": "[encoded data removed]",
      "text/plain": [
       "<Figure size 640x480 with 1 Axes>"
      ]
     },
     "metadata": {},
     "output_type": "display_data"
    }
   ],
   "source": [
    "# Split out by species - Male\n",
    "gentoo_l_male=gentoo_l.loc[gentoo_l[\"sex\"]==\"Male\"]\n",
    "chinstrap_l_male=chinstrap_l.loc[chinstrap_l[\"sex\"]==\"Male\"]\n",
    "adelie_l_male=adelie_l.loc[adelie_l[\"sex\"]==\"Male\"]\n",
    "\n",
    "# Sort the data\n",
    "gentoo_l_male.sort_values(\"body_mass_g\")\n",
    "chinstrap_l_male.sort_values(\"body_mass_g\")\n",
    "adelie_l_male.sort_values(\"body_mass_g\")\n",
    "\n",
    "# Add title and labels\n",
    "plt.title(\"Body Mass Comparison for Male Penguins\")\n",
    "plt.xlabel(\"Weight (g)\")\n",
    "plt.ylabel(\"Frequency\")\n",
    "# create the plots\n",
    "plt.hist(gentoo_l_male[\"body_mass_g\"],label='Gentoo')\n",
    "plt.hist(adelie_l_male[\"body_mass_g\"],label='Adelie')\n",
    "plt.hist(chinstrap_l_male[\"body_mass_g\"],label='Chinstrap')\n",
    "plt.legend();\n"
   ]
  },
  {
   "cell_type": "code",
   "execution_count": 14,
   "metadata": {},
   "outputs": [
    {
     "data": {
      "image/png": "[encoded data removed]",
      "text/plain": [
       "<Figure size 640x480 with 1 Axes>"
      ]
     },
     "metadata": {},
     "output_type": "display_data"
    }
   ],
   "source": [
    "# Split out by species - Female\n",
    "gentoo_l_female=gentoo_l.loc[gentoo_l[\"sex\"]==\"Female\"]\n",
    "chinstrap_l_female=chinstrap_l.loc[chinstrap_l[\"sex\"]==\"Female\"]\n",
    "adelie_l_female=adelie_l.loc[adelie_l[\"sex\"]==\"Female\"]\n",
    "\n",
    "# Sort the data\n",
    "gentoo_l_female.sort_values(\"body_mass_g\")\n",
    "chinstrap_l_female.sort_values(\"body_mass_g\")\n",
    "adelie_l_female.sort_values(\"body_mass_g\")\n",
    "\n",
    "# Add title and labels\n",
    "plt.title(\"Body Mass Comparison for Female Penguins\")\n",
    "plt.xlabel(\"Weight (g)\")\n",
    "plt.ylabel(\"Frequency\")\n",
    "# create the plots\n",
    "plt.hist(gentoo_l_female[\"body_mass_g\"],label='Gentoo')\n",
    "plt.hist(adelie_l_female[\"body_mass_g\"],label='Adelie')\n",
    "plt.hist(chinstrap_l_female[\"body_mass_g\"],label='Chinstrap')\n",
    "plt.legend();"
   ]
  },
  {
   "cell_type": "markdown",
   "metadata": {},
   "source": [
    "We can see that the data now looks more normal...\n",
    "\n",
    "But to go a bit further we can also look at it by sex..."
   ]
  },
  {
   "cell_type": "code",
   "execution_count": 15,
   "metadata": {},
   "outputs": [
    {
     "data": {
      "image/png": "[encoded data removed]",
      "text/plain": [
       "<Figure size 640x480 with 2 Axes>"
      ]
     },
     "metadata": {},
     "output_type": "display_data"
    }
   ],
   "source": [
    "# Plotting two plots side by side for comparison\n",
    "# body mass for male and female gentoo penguins\n",
    "import pandas as pd\n",
    "\n",
    "male = gentoo_l_female\n",
    "female = gentoo_l_male\n",
    "\n",
    "fig, axes = plt.subplots(1, 2)\n",
    "\n",
    "male.hist('body_mass_g', bins=10, ax=axes[0]);\n",
    "female.hist('body_mass_g', bins=10, ax=axes[1]);"
   ]
  },
  {
   "cell_type": "code",
   "execution_count": 16,
   "metadata": {},
   "outputs": [
    {
     "name": "stdout",
     "output_type": "stream",
     "text": [
      "the mean is 3733.0882352941176 and the median is 3700.0\n",
      "The mode is 0    3400.0\n",
      "1    3650.0\n",
      "2    3700.0\n",
      "3    3800.0\n",
      "4    3950.0\n",
      "5    4050.0\n",
      "Name: body_mass_g, dtype: float64\n"
     ]
    }
   ],
   "source": [
    "# Checking central tendancy\n",
    "\n",
    "# Display the Mean\n",
    "\n",
    "#m1 = chinstrap_l.mean()\n",
    "\n",
    "#m1\n",
    "\n",
    "# chinstrap_l['body_mass_g'].mean()\n",
    "# chinstrap_l['body_mass_g'].median()\n",
    "#chinstrap_l['body_mass_g'].mode() # Note - mode can have multiple values!\n",
    "\n",
    "print(f'the mean is {chinstrap_l[\"body_mass_g\"].mean()} and the median is {chinstrap_l[\"body_mass_g\"].median()}')\n",
    "print(f'The mode is {chinstrap_l[\"body_mass_g\"].mode()}')"
   ]
  },
  {
   "cell_type": "code",
   "execution_count": 17,
   "metadata": {},
   "outputs": [
    {
     "data": {
      "text/html": [
       "<div>\n",
       "<style scoped>\n",
       "    .dataframe tbody tr th:only-of-type {\n",
       "        vertical-align: middle;\n",
       "    }\n",
       "\n",
       "    .dataframe tbody tr th {\n",
       "        vertical-align: top;\n",
       "    }\n",
       "\n",
       "    .dataframe thead th {\n",
       "        text-align: right;\n",
       "    }\n",
       "</style>\n",
       "<table border=\"1\" class=\"dataframe\">\n",
       "  <thead>\n",
       "    <tr style=\"text-align: right;\">\n",
       "      <th></th>\n",
       "      <th>species</th>\n",
       "      <th>island</th>\n",
       "      <th>bill_length_mm</th>\n",
       "      <th>bill_depth_mm</th>\n",
       "      <th>flipper_length_mm</th>\n",
       "      <th>body_mass_g</th>\n",
       "      <th>sex</th>\n",
       "    </tr>\n",
       "  </thead>\n",
       "  <tbody>\n",
       "    <tr>\n",
       "      <th>0</th>\n",
       "      <td>Chinstrap</td>\n",
       "      <td>Dream</td>\n",
       "      <td>51.3</td>\n",
       "      <td>17.3</td>\n",
       "      <td>187.0</td>\n",
       "      <td>3400.0</td>\n",
       "      <td>Female</td>\n",
       "    </tr>\n",
       "    <tr>\n",
       "      <th>1</th>\n",
       "      <td>NaN</td>\n",
       "      <td>NaN</td>\n",
       "      <td>52.0</td>\n",
       "      <td>NaN</td>\n",
       "      <td>195.0</td>\n",
       "      <td>3650.0</td>\n",
       "      <td>Male</td>\n",
       "    </tr>\n",
       "    <tr>\n",
       "      <th>2</th>\n",
       "      <td>NaN</td>\n",
       "      <td>NaN</td>\n",
       "      <td>NaN</td>\n",
       "      <td>NaN</td>\n",
       "      <td>NaN</td>\n",
       "      <td>3700.0</td>\n",
       "      <td>NaN</td>\n",
       "    </tr>\n",
       "    <tr>\n",
       "      <th>3</th>\n",
       "      <td>NaN</td>\n",
       "      <td>NaN</td>\n",
       "      <td>NaN</td>\n",
       "      <td>NaN</td>\n",
       "      <td>NaN</td>\n",
       "      <td>3800.0</td>\n",
       "      <td>NaN</td>\n",
       "    </tr>\n",
       "    <tr>\n",
       "      <th>4</th>\n",
       "      <td>NaN</td>\n",
       "      <td>NaN</td>\n",
       "      <td>NaN</td>\n",
       "      <td>NaN</td>\n",
       "      <td>NaN</td>\n",
       "      <td>3950.0</td>\n",
       "      <td>NaN</td>\n",
       "    </tr>\n",
       "    <tr>\n",
       "      <th>5</th>\n",
       "      <td>NaN</td>\n",
       "      <td>NaN</td>\n",
       "      <td>NaN</td>\n",
       "      <td>NaN</td>\n",
       "      <td>NaN</td>\n",
       "      <td>4050.0</td>\n",
       "      <td>NaN</td>\n",
       "    </tr>\n",
       "  </tbody>\n",
       "</table>\n",
       "</div>"
      ],
      "text/plain": [
       "     species island  bill_length_mm  bill_depth_mm  flipper_length_mm  \\\n",
       "0  Chinstrap  Dream            51.3           17.3              187.0   \n",
       "1        NaN    NaN            52.0            NaN              195.0   \n",
       "2        NaN    NaN             NaN            NaN                NaN   \n",
       "3        NaN    NaN             NaN            NaN                NaN   \n",
       "4        NaN    NaN             NaN            NaN                NaN   \n",
       "5        NaN    NaN             NaN            NaN                NaN   \n",
       "\n",
       "   body_mass_g     sex  \n",
       "0       3400.0  Female  \n",
       "1       3650.0    Male  \n",
       "2       3700.0     NaN  \n",
       "3       3800.0     NaN  \n",
       "4       3950.0     NaN  \n",
       "5       4050.0     NaN  "
      ]
     },
     "execution_count": 17,
     "metadata": {},
     "output_type": "execute_result"
    }
   ],
   "source": [
    "# Display the mode\n",
    "\n",
    "m2 = chinstrap_l.mode()\n",
    "\n",
    "m2"
   ]
  },
  {
   "cell_type": "markdown",
   "metadata": {},
   "source": [
    "Checking mean, mode and median - they are almost equal so we can say the data is normally distributed..."
   ]
  },
  {
   "cell_type": "code",
   "execution_count": 18,
   "metadata": {},
   "outputs": [
    {
     "name": "stderr",
     "output_type": "stream",
     "text": [
      "/var/folders/jq/gc7nj28s57xbd87n_1zvws040000gq/T/ipykernel_58259/4222937890.py:1: FutureWarning: The default value of numeric_only in DataFrame.mean is deprecated. In a future version, it will default to False. In addition, specifying 'numeric_only=None' is deprecated. Select only valid columns or specify the value of numeric_only to silence this warning.\n",
      "  gentoo_l_female.mean()\n"
     ]
    },
    {
     "data": {
      "text/plain": [
       "bill_length_mm         45.563793\n",
       "bill_depth_mm          14.237931\n",
       "flipper_length_mm     212.706897\n",
       "body_mass_g          4679.741379\n",
       "dtype: float64"
      ]
     },
     "execution_count": 18,
     "metadata": {},
     "output_type": "execute_result"
    }
   ],
   "source": [
    "gentoo_l_female.mean()"
   ]
  },
  {
   "cell_type": "code",
   "execution_count": 19,
   "metadata": {},
   "outputs": [
    {
     "data": {
      "text/html": [
       "<div>\n",
       "<style scoped>\n",
       "    .dataframe tbody tr th:only-of-type {\n",
       "        vertical-align: middle;\n",
       "    }\n",
       "\n",
       "    .dataframe tbody tr th {\n",
       "        vertical-align: top;\n",
       "    }\n",
       "\n",
       "    .dataframe thead th {\n",
       "        text-align: right;\n",
       "    }\n",
       "</style>\n",
       "<table border=\"1\" class=\"dataframe\">\n",
       "  <thead>\n",
       "    <tr style=\"text-align: right;\">\n",
       "      <th></th>\n",
       "      <th>species</th>\n",
       "      <th>island</th>\n",
       "      <th>bill_length_mm</th>\n",
       "      <th>bill_depth_mm</th>\n",
       "      <th>flipper_length_mm</th>\n",
       "      <th>body_mass_g</th>\n",
       "      <th>sex</th>\n",
       "    </tr>\n",
       "  </thead>\n",
       "  <tbody>\n",
       "    <tr>\n",
       "      <th>0</th>\n",
       "      <td>Gentoo</td>\n",
       "      <td>Biscoe</td>\n",
       "      <td>46.5</td>\n",
       "      <td>14.5</td>\n",
       "      <td>210.0</td>\n",
       "      <td>4700.0</td>\n",
       "      <td>Female</td>\n",
       "    </tr>\n",
       "  </tbody>\n",
       "</table>\n",
       "</div>"
      ],
      "text/plain": [
       "  species  island  bill_length_mm  bill_depth_mm  flipper_length_mm  \\\n",
       "0  Gentoo  Biscoe            46.5           14.5              210.0   \n",
       "\n",
       "   body_mass_g     sex  \n",
       "0       4700.0  Female  "
      ]
     },
     "execution_count": 19,
     "metadata": {},
     "output_type": "execute_result"
    }
   ],
   "source": [
    "gentoo_l_female.mode()"
   ]
  },
  {
   "cell_type": "code",
   "execution_count": 20,
   "metadata": {},
   "outputs": [
    {
     "name": "stderr",
     "output_type": "stream",
     "text": [
      "/var/folders/jq/gc7nj28s57xbd87n_1zvws040000gq/T/ipykernel_58259/3823810547.py:1: FutureWarning: The default value of numeric_only in DataFrame.median is deprecated. In a future version, it will default to False. In addition, specifying 'numeric_only=None' is deprecated. Select only valid columns or specify the value of numeric_only to silence this warning.\n",
      "  gentoo_l_female.median()\n"
     ]
    },
    {
     "data": {
      "text/plain": [
       "bill_length_mm         45.50\n",
       "bill_depth_mm          14.25\n",
       "flipper_length_mm     212.00\n",
       "body_mass_g          4700.00\n",
       "dtype: float64"
      ]
     },
     "execution_count": 20,
     "metadata": {},
     "output_type": "execute_result"
    }
   ],
   "source": [
    "gentoo_l_female.median()"
   ]
  },
  {
   "cell_type": "code",
   "execution_count": 21,
   "metadata": {},
   "outputs": [
    {
     "data": {
      "text/plain": [
       "0    4700.0\n",
       "Name: body_mass_g, dtype: float64"
      ]
     },
     "execution_count": 21,
     "metadata": {},
     "output_type": "execute_result"
    }
   ],
   "source": [
    "gentoo_l_female['body_mass_g'].mode()"
   ]
  },
  {
   "cell_type": "markdown",
   "metadata": {},
   "source": [
    "Continuous variables/dictributions for bill and flipper variables"
   ]
  },
  {
   "cell_type": "markdown",
   "metadata": {},
   "source": [
    "# Task4\n",
    "\n",
    ">The purpose of this task is to plot the entropy of the total number of heads versus the probability $p$ of giving heads when flipping two coins."
   ]
  },
  {
   "cell_type": "markdown",
   "metadata": {},
   "source": [
    "Firstly we get the probability of both coins returning a H for 10000 tosses and plot this for reference.\n",
    "\n",
    "Note: we are making the assumption that the question refers to the probability of both coins landing on Heads with each single toss - i.e. 1 in 4 chance (**HH**, HT, TH, TT) as opposed to referring to either coin landing on a Head which would be 3 in 4 chance (**HH**, **HT**, **TH**, TT)."
   ]
  },
  {
   "cell_type": "code",
   "execution_count": 22,
   "metadata": {},
   "outputs": [
    {
     "data": {
      "image/png": "[encoded data removed]",
      "text/plain": [
       "<Figure size 1200x400 with 1 Axes>"
      ]
     },
     "metadata": {},
     "output_type": "display_data"
    }
   ],
   "source": [
    "# Flipping two coins 10000 times to show the resulting probability of getting HH\n",
    "rand_coins = np.random.binomial(2, .5, 10000)\n",
    "\n",
    "# Plot the results\n",
    "fig, ax = plt.subplots(figsize=(12, 4))\n",
    "x, counts = np.unique(rand_coins, return_counts=True)\n",
    "ax.bar(x, counts);"
   ]
  },
  {
   "cell_type": "markdown",
   "metadata": {},
   "source": [
    "As expected, the probability of HH is .25%"
   ]
  },
  {
   "cell_type": "code",
   "execution_count": 23,
   "metadata": {},
   "outputs": [],
   "source": [
    "# Define the Entropy Formula as a function\n",
    "\n",
    "def H(p):\n",
    "    return -(1 - p) * np.log2(1.0 - p) - p * np.log2(p)"
   ]
  },
  {
   "cell_type": "code",
   "execution_count": 24,
   "metadata": {},
   "outputs": [
    {
     "data": {
      "text/plain": [
       "0.8112781244591328"
      ]
     },
     "execution_count": 24,
     "metadata": {},
     "output_type": "execute_result"
    }
   ],
   "source": [
    "# Calculate the Entropy value for the probability achieved above (i.e 25%)\n",
    "\n",
    "H(0.25)"
   ]
  },
  {
   "cell_type": "code",
   "execution_count": 25,
   "metadata": {},
   "outputs": [
    {
     "data": {
      "image/png": "[encoded data removed]",
      "text/plain": [
       "<Figure size 800x400 with 1 Axes>"
      ]
     },
     "metadata": {},
     "output_type": "display_data"
    }
   ],
   "source": [
    "# Plotting Entropy\n",
    "\n",
    "fig, ax = plt.subplots(figsize= (8,4))\n",
    "\n",
    "# Plot full range of probabilities from 0 to 1 and the associated Enttopy value\n",
    "p = np.linspace(0.000001, 0.999999, 10001)\n",
    "ax.plot(p, H(p));\n",
    "\n",
    "# Add lines to indicate where our Probability (25%) and Entropy (0.81) meet\n",
    "plt.plot((0.25, 0.25), (0.0, 0.81),color='r');\n",
    "plt.plot((0.0, 0.25), (0.81, 0.81),color='r');\n",
    "plt.scatter(0.25, 0.81,color='r');"
   ]
  },
  {
   "cell_type": "markdown",
   "metadata": {},
   "source": [
    "# Task5\n",
    "\n",
    ">The purpose of this task is to create approprite individual plots for each of the variables in the penguin data set.\n",
    "\n",
    "The following are the variables in the dataset:\n",
    "\n",
    "| Variable Name |\n",
    "| --- |\n",
    "| species |\n",
    "| island |\n",
    "| bill_length_mm |\n",
    "| bill_depth_mm |\n",
    "| flipper_length_mm |\n",
    "| body_mass_g |\n",
    "| sex |\n",
    "\n",
    "Describe the data and give reason for the chosen plot type...\n",
    "discrete v continuous, \n",
    "Notes \n",
    "Species - Pie/Bar Chart   \n",
    "Island - Pie/Bar Chart   \n",
    "Sex - Pie Chart   \n",
    "flipper/bill size and mass - historgrams   \n",
    "\n",
    "Scatter Plots for comparing x vs y etc\n",
    "\n",
    "\n",
    "\n",
    "Sources:\n",
    "https://www.kaggle.com/code/tirendazacademy/penguin-dataset-data-visualization-with-seaborn\n",
    "\n"
   ]
  },
  {
   "cell_type": "markdown",
   "metadata": {},
   "source": [
    "### species\n",
    "Species is a categorical variable containing just three possible values...the most appropriate plot to use would be a bar chart showing the frequency of each species..."
   ]
  },
  {
   "cell_type": "code",
   "execution_count": 26,
   "metadata": {},
   "outputs": [
    {
     "data": {
      "image/png": "[encoded data removed]",
      "text/plain": [
       "<Figure size 640x480 with 1 Axes>"
      ]
     },
     "metadata": {},
     "output_type": "display_data"
    }
   ],
   "source": [
    "# species\n",
    "\n",
    "#Create a list just for Species and generate a bar chart\n",
    "\n",
    "import matplotlib.pyplot as plt\n",
    "\n",
    "species_l = []\n",
    "for x in df['species']:\n",
    "    species_l.append(x)\n",
    "\n",
    "plt.title(\"Species\")\n",
    "plt.ylabel(\"Frequency\")\n",
    "temp=np.unique(species_l)\n",
    "freq_list = []\n",
    "for x in temp:\n",
    "    freq_list.append(species_l.count(x))\n",
    "\n",
    "plt.bar(temp, freq_list)\n",
    "plt.show;"
   ]
  },
  {
   "cell_type": "markdown",
   "metadata": {},
   "source": [
    "### island\n",
    "Island is a categorical variable containing just three possible values...the most appropriate plot to use would be a bar chart showing the frequency of each island..."
   ]
  },
  {
   "cell_type": "code",
   "execution_count": 27,
   "metadata": {},
   "outputs": [
    {
     "data": {
      "image/png": "[encoded data removed]",
      "text/plain": [
       "<Figure size 640x480 with 1 Axes>"
      ]
     },
     "metadata": {},
     "output_type": "display_data"
    }
   ],
   "source": [
    "# island\n",
    "\n",
    "# Create a list just for island and generate a bar chart\n",
    "\n",
    "import matplotlib.pyplot as plt\n",
    "\n",
    "island_l = []\n",
    "for x in df['island']:\n",
    "    island_l.append(x)\n",
    "\n",
    "plt.title(\"Island\")\n",
    "plt.ylabel(\"Frequency\")\n",
    "temp=np.unique(island_l)\n",
    "freq_list = []\n",
    "for x in temp:\n",
    "    freq_list.append(island_l.count(x))\n",
    "\n",
    "plt.bar(temp, freq_list)\n",
    "plt.show;"
   ]
  },
  {
   "cell_type": "code",
   "execution_count": 28,
   "metadata": {},
   "outputs": [
    {
     "data": {
      "image/png": "[encoded data removed]",
      "text/plain": [
       "<Figure size 640x480 with 1 Axes>"
      ]
     },
     "metadata": {},
     "output_type": "display_data"
    }
   ],
   "source": [
    "# sex\n",
    "\n",
    "# Create a list just for sex and generate a bar chart\n",
    "\n",
    "import matplotlib.pyplot as plt\n",
    "\n",
    "sex_l = []\n",
    "\n",
    "for x in df['sex']:\n",
    "    if str(x) != \"nan\":\n",
    "        sex_l.append(x)\n",
    "\n",
    "temp=np.unique(sex_l)\n",
    "freq_list = []\n",
    "for x in temp:\n",
    "    freq_list.append(sex_l.count(x))\n",
    "\n",
    "plt.title(\"Sex\")\n",
    "plt.pie(freq_list, labels = temp)\n",
    "plt.show;"
   ]
  },
  {
   "cell_type": "markdown",
   "metadata": {},
   "source": [
    "# References\n",
    "\n",
    "$^1$ mwaskom/seaborn-data: Data repository for seaborn examples. Aug. 30, 2023. url: https://github.com/mwaskom/ seaborn - data / blob / master / penguins.csv (visited on 10/25/2023)\n"
   ]
  },
  {
   "cell_type": "markdown",
   "metadata": {},
   "source": [
    "***\n",
    "\n",
    "## End"
   ]
  }
 ],
 "metadata": {
  "kernelspec": {
   "display_name": "base",
   "language": "python",
   "name": "python3"
  },
  "language_info": {
   "codemirror_mode": {
    "name": "ipython",
    "version": 3
   },
   "file_extension": ".py",
   "mimetype": "text/x-python",
   "name": "python",
   "nbconvert_exporter": "python",
   "pygments_lexer": "ipython3",
   "version": "3.11.4"
  },
  "orig_nbformat": 4
 },
 "nbformat": 4,
 "nbformat_minor": 2
}
