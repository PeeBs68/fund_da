{
 "cells": [
  {
   "cell_type": "markdown",
   "metadata": {},
   "source": [
    "# Fundamentals of Data Analysis Tasks\n",
    "\n",
    "Phelim Barry\n",
    "\n",
    "***"
   ]
  },
  {
   "cell_type": "markdown",
   "metadata": {},
   "source": [
    "# Introduction\n",
    "\n",
    "The purpose of this..."
   ]
  },
  {
   "cell_type": "markdown",
   "metadata": {},
   "source": [
    "# Table of Contents\n",
    "\n",
    "1. [Task1](#Task1)\n",
    "2. [Task2](#Task2)\n",
    "3. [Task3](#Task3)\n",
    "4. [Task4](#Task4)\n",
    "5. [Task5](#Task5)\n",
    "6. [References](#References)\n",
    "\n"
   ]
  },
  {
   "cell_type": "markdown",
   "metadata": {},
   "source": [
    "# Task1\n",
    "\n",
    ">The Collatz conjecture is a famous unsolved problem in mathematics. The problem is to prove that if you start with any positive integer $x$ and repeatedly apply the function $f(x)$ below, you always get stuck in the repeating sequence 1, 4, 2, 1, 4, 2, . . .   \n",
    "This task is to verify, using Python, that the conjecture is true for the first 10,000 positive integers.\n",
    "\n",
    "If $x$ is even, $f(x) = x ÷ 2$   \n",
    "If $x$ is odd, $f(x) = 3x + 1$"
   ]
  },
  {
   "cell_type": "markdown",
   "metadata": {},
   "source": [
    "Define a function for $f(x)$ and apply the appropriate formula. Using the modulus operator we can determine if $x$ is even (i.e. no remainder when divided by 2) or else $x$ must be odd."
   ]
  },
  {
   "cell_type": "code",
   "execution_count": 1,
   "metadata": {},
   "outputs": [],
   "source": [
    "def f(x):\n",
    "    if x % 2 == 0:          #x is even\n",
    "        return x // 2\n",
    "    else:                   #x is odd\n",
    "        return (3 * x) + 1"
   ]
  },
  {
   "cell_type": "markdown",
   "metadata": {},
   "source": [
    "Define a function to check the $x$ value. If after applying the formula to the number, we arrive at a value equal to 1 then we have proved for that number and move on to the next number. If we reach the number 10001 then we have proved for all numbers between 1 and 10000"
   ]
  },
  {
   "cell_type": "code",
   "execution_count": 2,
   "metadata": {},
   "outputs": [],
   "source": [
    "def collatz(x):\n",
    "    while x != 1:\n",
    "        x = f(x)            #call the f(x) function"
   ]
  },
  {
   "cell_type": "markdown",
   "metadata": {},
   "source": [
    "Run the function and print a confirmation message once complete."
   ]
  },
  {
   "cell_type": "code",
   "execution_count": 3,
   "metadata": {},
   "outputs": [
    {
     "name": "stdout",
     "output_type": "stream",
     "text": [
      "We have cycled through the values from 1 to 10000 and each time ended with a value of 1 \n",
      "indicating the conjecture is true for the first 10000 positive integers\n"
     ]
    }
   ],
   "source": [
    "# Define start and end range values\n",
    "start_range = 1\n",
    "stop_range = 10001\n",
    "\n",
    "for num in range (start_range, stop_range):\n",
    "    collatz(num)        #call the collatz function\n",
    "\n",
    "print (f'We have cycled through the values from {start_range} to {stop_range-1} and each time ended with a value of 1 \\nindicating the conjecture is true for the first {stop_range-1} positive integers')\n"
   ]
  },
  {
   "cell_type": "markdown",
   "metadata": {},
   "source": [
    "# Task2\n",
    "\n",
    "\n",
    ">The purpose of this task is to give an overview of the penguins data set explaining the types of variables it contains.\n",
    "\n",
    ">We will also suggest the types of variables that should be used to model them in Python giving explanations for the rationale."
   ]
  },
  {
   "cell_type": "markdown",
   "metadata": {},
   "source": [
    "**Overview**\n",
    "\n",
    "The Palmer Penguin Dataset contains measurements of three different species of penguins from three islands in the Palmer Archipelago in Antartica. The data were collected between 2007 and 2009 and made available by researcher Dr. Kristen Gorman and other researchers from the Palmer Research Station.\n",
    "\n",
    "Similar to the Iris dataset it is often used to explore areas of data analysis such as correlation and regression.\n",
    " "
   ]
  },
  {
   "cell_type": "markdown",
   "metadata": {},
   "source": [
    "The dataset is available to view in a number of locations where we could quickly look and see the column names such as from Michael Waskom's $^1$ repository on GitHub. From there we can see that the dataset has seven columns of data containing the following variables:\n",
    "\n",
    "| Variable Name |\n",
    "| --- |\n",
    "| species |\n",
    "| island |\n",
    "| bill_length_mm |\n",
    "| bill_depth_mm |\n",
    "| flipper_length_mm |\n",
    "| body_mass_g |\n",
    "| sex |\n",
    " "
   ]
  },
  {
   "cell_type": "markdown",
   "metadata": {},
   "source": [
    "The dataset is also available directly through seaborn so by importing it we can do some analysis on the data to better understand the amount of data and the different columns."
   ]
  },
  {
   "cell_type": "code",
   "execution_count": 4,
   "metadata": {},
   "outputs": [],
   "source": [
    "# Import seaborn and load the penguins data set into a new dataframe df\n",
    "\n",
    "import seaborn as sns\n",
    "import numpy as np\n",
    "\n",
    "df=sns.load_dataset ('penguins')\n"
   ]
  },
  {
   "cell_type": "code",
   "execution_count": 5,
   "metadata": {},
   "outputs": [
    {
     "data": {
      "text/html": [
       "<div>\n",
       "<style scoped>\n",
       "    .dataframe tbody tr th:only-of-type {\n",
       "        vertical-align: middle;\n",
       "    }\n",
       "\n",
       "    .dataframe tbody tr th {\n",
       "        vertical-align: top;\n",
       "    }\n",
       "\n",
       "    .dataframe thead th {\n",
       "        text-align: right;\n",
       "    }\n",
       "</style>\n",
       "<table border=\"1\" class=\"dataframe\">\n",
       "  <thead>\n",
       "    <tr style=\"text-align: right;\">\n",
       "      <th></th>\n",
       "      <th>species</th>\n",
       "      <th>island</th>\n",
       "      <th>bill_length_mm</th>\n",
       "      <th>bill_depth_mm</th>\n",
       "      <th>flipper_length_mm</th>\n",
       "      <th>body_mass_g</th>\n",
       "      <th>sex</th>\n",
       "    </tr>\n",
       "  </thead>\n",
       "  <tbody>\n",
       "    <tr>\n",
       "      <th>0</th>\n",
       "      <td>Adelie</td>\n",
       "      <td>Torgersen</td>\n",
       "      <td>39.1</td>\n",
       "      <td>18.7</td>\n",
       "      <td>181.0</td>\n",
       "      <td>3750.0</td>\n",
       "      <td>Male</td>\n",
       "    </tr>\n",
       "    <tr>\n",
       "      <th>1</th>\n",
       "      <td>Adelie</td>\n",
       "      <td>Torgersen</td>\n",
       "      <td>39.5</td>\n",
       "      <td>17.4</td>\n",
       "      <td>186.0</td>\n",
       "      <td>3800.0</td>\n",
       "      <td>Female</td>\n",
       "    </tr>\n",
       "    <tr>\n",
       "      <th>2</th>\n",
       "      <td>Adelie</td>\n",
       "      <td>Torgersen</td>\n",
       "      <td>40.3</td>\n",
       "      <td>18.0</td>\n",
       "      <td>195.0</td>\n",
       "      <td>3250.0</td>\n",
       "      <td>Female</td>\n",
       "    </tr>\n",
       "    <tr>\n",
       "      <th>3</th>\n",
       "      <td>Adelie</td>\n",
       "      <td>Torgersen</td>\n",
       "      <td>NaN</td>\n",
       "      <td>NaN</td>\n",
       "      <td>NaN</td>\n",
       "      <td>NaN</td>\n",
       "      <td>NaN</td>\n",
       "    </tr>\n",
       "    <tr>\n",
       "      <th>4</th>\n",
       "      <td>Adelie</td>\n",
       "      <td>Torgersen</td>\n",
       "      <td>36.7</td>\n",
       "      <td>19.3</td>\n",
       "      <td>193.0</td>\n",
       "      <td>3450.0</td>\n",
       "      <td>Female</td>\n",
       "    </tr>\n",
       "    <tr>\n",
       "      <th>...</th>\n",
       "      <td>...</td>\n",
       "      <td>...</td>\n",
       "      <td>...</td>\n",
       "      <td>...</td>\n",
       "      <td>...</td>\n",
       "      <td>...</td>\n",
       "      <td>...</td>\n",
       "    </tr>\n",
       "    <tr>\n",
       "      <th>339</th>\n",
       "      <td>Gentoo</td>\n",
       "      <td>Biscoe</td>\n",
       "      <td>NaN</td>\n",
       "      <td>NaN</td>\n",
       "      <td>NaN</td>\n",
       "      <td>NaN</td>\n",
       "      <td>NaN</td>\n",
       "    </tr>\n",
       "    <tr>\n",
       "      <th>340</th>\n",
       "      <td>Gentoo</td>\n",
       "      <td>Biscoe</td>\n",
       "      <td>46.8</td>\n",
       "      <td>14.3</td>\n",
       "      <td>215.0</td>\n",
       "      <td>4850.0</td>\n",
       "      <td>Female</td>\n",
       "    </tr>\n",
       "    <tr>\n",
       "      <th>341</th>\n",
       "      <td>Gentoo</td>\n",
       "      <td>Biscoe</td>\n",
       "      <td>50.4</td>\n",
       "      <td>15.7</td>\n",
       "      <td>222.0</td>\n",
       "      <td>5750.0</td>\n",
       "      <td>Male</td>\n",
       "    </tr>\n",
       "    <tr>\n",
       "      <th>342</th>\n",
       "      <td>Gentoo</td>\n",
       "      <td>Biscoe</td>\n",
       "      <td>45.2</td>\n",
       "      <td>14.8</td>\n",
       "      <td>212.0</td>\n",
       "      <td>5200.0</td>\n",
       "      <td>Female</td>\n",
       "    </tr>\n",
       "    <tr>\n",
       "      <th>343</th>\n",
       "      <td>Gentoo</td>\n",
       "      <td>Biscoe</td>\n",
       "      <td>49.9</td>\n",
       "      <td>16.1</td>\n",
       "      <td>213.0</td>\n",
       "      <td>5400.0</td>\n",
       "      <td>Male</td>\n",
       "    </tr>\n",
       "  </tbody>\n",
       "</table>\n",
       "<p>344 rows × 7 columns</p>\n",
       "</div>"
      ],
      "text/plain": [
       "    species     island  bill_length_mm  bill_depth_mm  flipper_length_mm  \\\n",
       "0    Adelie  Torgersen            39.1           18.7              181.0   \n",
       "1    Adelie  Torgersen            39.5           17.4              186.0   \n",
       "2    Adelie  Torgersen            40.3           18.0              195.0   \n",
       "3    Adelie  Torgersen             NaN            NaN                NaN   \n",
       "4    Adelie  Torgersen            36.7           19.3              193.0   \n",
       "..      ...        ...             ...            ...                ...   \n",
       "339  Gentoo     Biscoe             NaN            NaN                NaN   \n",
       "340  Gentoo     Biscoe            46.8           14.3              215.0   \n",
       "341  Gentoo     Biscoe            50.4           15.7              222.0   \n",
       "342  Gentoo     Biscoe            45.2           14.8              212.0   \n",
       "343  Gentoo     Biscoe            49.9           16.1              213.0   \n",
       "\n",
       "     body_mass_g     sex  \n",
       "0         3750.0    Male  \n",
       "1         3800.0  Female  \n",
       "2         3250.0  Female  \n",
       "3            NaN     NaN  \n",
       "4         3450.0  Female  \n",
       "..           ...     ...  \n",
       "339          NaN     NaN  \n",
       "340       4850.0  Female  \n",
       "341       5750.0    Male  \n",
       "342       5200.0  Female  \n",
       "343       5400.0    Male  \n",
       "\n",
       "[344 rows x 7 columns]"
      ]
     },
     "execution_count": 5,
     "metadata": {},
     "output_type": "execute_result"
    }
   ],
   "source": [
    "# print the dataframe to view the data\n",
    "\n",
    "df\n"
   ]
  },
  {
   "cell_type": "markdown",
   "metadata": {},
   "source": [
    "From this we can see that species, island and sex contain categorical data while the remaining seem to contain numerical data."
   ]
  },
  {
   "cell_type": "markdown",
   "metadata": {},
   "source": [
    "We can then use the ```unique``` command to list the full set of values in each column containing categorical variables..."
   ]
  },
  {
   "cell_type": "code",
   "execution_count": 6,
   "metadata": {},
   "outputs": [
    {
     "name": "stdout",
     "output_type": "stream",
     "text": [
      "The values in species column are ['Adelie' 'Chinstrap' 'Gentoo']\n",
      "The values in island column are ['Torgersen' 'Biscoe' 'Dream']\n",
      "The values in sex column are ['Male' 'Female' nan]\n"
     ]
    }
   ],
   "source": [
    "#x = df.species.unique()\n",
    "print(f'The values in species column are {df.species.unique()}')\n",
    "print(f'The values in island column are {df.island.unique()}')\n",
    "print(f'The values in sex column are {df.sex.unique()}')\n"
   ]
  },
  {
   "cell_type": "markdown",
   "metadata": {},
   "source": [
    "Categorical variable types are used when the variable can only be one of a specific list of values or used to describe qualitative data. In the penguins dataset the three categorical variables have very specific values.   \n",
    "Species has three values: Adelie, Chinstrap and Gentoo. Island also has three values: Biscoe, Dream and Torgersen. Sex has two values: male and female.   \n",
    "All three of these variables can be described as nominal as they are being used to name something.   \n",
    "\n",
    "\n",
    "\n",
    "Numeric variable types are also known as quantitative variables because they typically are used to measure something using a number value. The penguins dataset contains four numeric variables with three measured in millimeters and one measured in grams. These are continuous variables and can be further broken down and described as ratio variables because they cantain numbers that have measurable differences that can be determined such as the differences in lengths, weights etc. Given that all four of the variables are being used to measure something they would be considered to be using real numbers. The presence of decimal places also points to them being real numbers."
   ]
  },
  {
   "cell_type": "markdown",
   "metadata": {},
   "source": [
    "Based on the analysis above we can determine that the dataset contains the following variables and data types."
   ]
  },
  {
   "cell_type": "markdown",
   "metadata": {},
   "source": [
    "| Variable Name | Type | Description |\n",
    "| --- | --- | --- |\n",
    "| species | categorical | penguin species - Adelie, Chinstrap or Gentoo |\n",
    "| island | categorical | island name - Biscoe, Dream or Torgersen |\n",
    "| bill_length_mm | numeric/real | penguin bill length measured in mm |\n",
    "| bill_depth_mm | numeric/real | penguin bill depth measured in mm |\n",
    "| flipper_length_mm | numeric/real | penguin flipper length measured in mm |\n",
    "| body_mass_g | numeric/real | penguin body mass measured in grams |\n",
    "| sex | categorical | penguin sex - male or female |"
   ]
  },
  {
   "cell_type": "markdown",
   "metadata": {},
   "source": [
    "**Suggested Variable Types in Python**\n",
    "\n",
    "To model each of the variables in Python the following data types are suggested...\n",
    "\n",
    "\n",
    "| Variable Name | Type | Python Variable Type |\n",
    "| --- | --- | --- |\n",
    "| species | categorical | string |\n",
    "| island | categorical | string |\n",
    "| sex | categorical | string |\n",
    "| bill_length | numeric/real | float |\n",
    "| bill_depth | numeric/real | float |\n",
    "| flipper_length | numeric/real | float |\n",
    "| body_mass | numeric/real | float |\n",
    "\n",
    "Categorical variables typically only contain a limited number of possible values and would not be used to perform any mathematical operations. They can contain alpha characters, numerica values or even special characters but usually would not contain numbers only. Such variables are stored as type ```string``` or ```str``` in Python.   \n",
    "\n",
    "Species, Island and sex can all be modeled as type ```str```. All three variables contain alpha characters and are a small set of fixed values. \n",
    "\n",
    "Numeric values in python usually are defined as type ```int``` or ```floating point``` (can also be complex). ```int``` variable types are whole numbers with no decimal places. They are ideal for performing addition or subtraction but if we are to perform any arithmetic involving division such as calculating means or average values, then our calculated value would turn into a ```float``` by default python logic. ```float``` or floating-point variables are used to store values with decimal points. Arithmetic on float values will always result in another float value and will display a value after the decimal point even if the value is $.0$.   \n",
    "\n",
    "With this in mind it would be best to model bill_length and bill_depth as type ```float``` because both contain decimal values. \n",
    "flipper_length and body_mass could be stored as ```int``` variables as they do not contain decimals however if we needed to convert the values to centimeters or kilograms then that would introduce decimal places so it would be best to store them as ```float``` also."
   ]
  },
  {
   "cell_type": "markdown",
   "metadata": {},
   "source": [
    "In total, there are 344 rows of data in the dataset. However, unlike the iris dataset, the penguins dataset has some missing values which show up as 'NaN' when the data is imported. These can be found using the ```isnull().sum()``` command as follows:"
   ]
  },
  {
   "cell_type": "code",
   "execution_count": 7,
   "metadata": {},
   "outputs": [
    {
     "data": {
      "text/plain": [
       "species               0\n",
       "island                0\n",
       "bill_length_mm        2\n",
       "bill_depth_mm         2\n",
       "flipper_length_mm     2\n",
       "body_mass_g           2\n",
       "sex                  11\n",
       "dtype: int64"
      ]
     },
     "execution_count": 7,
     "metadata": {},
     "output_type": "execute_result"
    }
   ],
   "source": [
    "df.isnull().sum()\n"
   ]
  },
  {
   "cell_type": "markdown",
   "metadata": {},
   "source": [
    "When analysing the data these will need to be taken into consideration and dealt with appropriately. For example, "
   ]
  },
  {
   "cell_type": "markdown",
   "metadata": {},
   "source": [
    "# Task3\n",
    "\n",
    ">For each of the variables in the penguins data set, suggest what probability distribution from the numpy random distributions list is the most appropriate to model the variable.\n",
    "\n",
    "The dataset contains the following variables:\n",
    "| Variable Name |\n",
    "| --- |\n",
    "| species |\n",
    "| island |\n",
    "| bill_length_mm |\n",
    "| bill_depth_mm |\n",
    "| flipper_length_mm |\n",
    "| body_mass_g |\n",
    "| sex |"
   ]
  },
  {
   "cell_type": "markdown",
   "metadata": {},
   "source": [
    "### Species ###  \n",
    "We can see that the species variable is categorical and can only contain one of three possible values - Gentoo, Adelie or Chinstrap. The data shows that the numbers are not equally distributed   \n",
    "\n",
    "    Adelie - 152 (44%)   \n",
    "    Gentoo - 68 (20%)   \n",
    "    Chinstrap - 124 (36%)      \n",
    "\n",
    "To model this data we would use a multinomial distribution and include weighting to closely replicate the original data accordingly. \n"
   ]
  },
  {
   "cell_type": "code",
   "execution_count": 8,
   "metadata": {},
   "outputs": [
    {
     "name": "stdout",
     "output_type": "stream",
     "text": [
      "Count = 10000\n",
      "Random number of Adelie = 4315\n",
      "Random number of Gentoo = 2015\n",
      "Random number of Chinstrap = 3670\n"
     ]
    }
   ],
   "source": [
    "# model species variable using multinomial distribution\n",
    "rng = np.random.default_rng()\n",
    "species_prob = rng.multinomial(10000, [0.44, 0.20, 0.36])\n",
    "\n",
    "print ('Count = 10000')\n",
    "print (f'Random number of Adelie = {species_prob[0]}')\n",
    "print (f'Random number of Gentoo = {species_prob[1]}')\n",
    "print (f'Random number of Chinstrap = {species_prob[2]}')"
   ]
  },
  {
   "cell_type": "markdown",
   "metadata": {},
   "source": [
    "### Island ###  \n",
    "Similar to the species variable, the island variable is also categorical and again can only contain one of three possible values - Biscoe, Dream or Torgersen. The data shows that the numbers are not equally distributed   \n",
    "\n",
    "    Biscoe - 168 (49%)   \n",
    "    Dream - 124 (36%)   \n",
    "    Torgersen - 52 (15%)      \n",
    "\n",
    "To model this data we would again use a multinomial distribution and include weighting to closely replicate the original data accordingly. "
   ]
  },
  {
   "cell_type": "code",
   "execution_count": 9,
   "metadata": {},
   "outputs": [
    {
     "name": "stdout",
     "output_type": "stream",
     "text": [
      "Count = 10000\n",
      "Random number of Biscoe = 4924\n",
      "Random number of Dream = 3622\n",
      "Random number of Torgersen = 1454\n"
     ]
    }
   ],
   "source": [
    "# model island variable using multinomial distribution\n",
    "rng = np.random.default_rng()\n",
    "island_prob = rng.multinomial(10000, [0.49, 0.36, 0.15])\n",
    "\n",
    "print ('Count = 10000')\n",
    "print (f'Random number of Biscoe = {island_prob[0]}')\n",
    "print (f'Random number of Dream = {island_prob[1]}')\n",
    "print (f'Random number of Torgersen = {island_prob[2]}')\n"
   ]
  },
  {
   "cell_type": "markdown",
   "metadata": {},
   "source": [
    "### Sex ###  \n",
    "We can see that the sex variable only contains two possible values - male or female - meaning the data is discrete, and each sample is independent of each other. We can also see that there seems an almost equal possibility of a penguin being either male or female.\n",
    "\n",
    "    Female - 165 (49.55%)   \n",
    "    Male - 168 (50.45%)       \n",
    "\n",
    "\n",
    "With these details in mind we could model the data using a binomial distribution."
   ]
  },
  {
   "cell_type": "code",
   "execution_count": 10,
   "metadata": {},
   "outputs": [
    {
     "name": "stdout",
     "output_type": "stream",
     "text": [
      "count = 10000\n",
      "Random number of males = 5086\n",
      "Random number of females = 4914\n"
     ]
    }
   ],
   "source": [
    "# model sex variable using binomial distributions\n",
    "rng = np.random.default_rng()\n",
    "\n",
    "n, p = 1, .5045  # n = number of trials (success=male, failure=female), p = probability of each trial (.5045 for male)\n",
    "sex_prob = rng.binomial(n, p, 10000)\n",
    "\n",
    "# Print results\n",
    "male = np.sum(sex_prob == 1)\n",
    "female = np.sum(sex_prob == 0)\n",
    "print ('count = 10000')\n",
    "print (f'Random number of males = {male}')\n",
    "print (f'Random number of females = {female}')"
   ]
  },
  {
   "cell_type": "markdown",
   "metadata": {},
   "source": [
    "### Body Mass\n",
    "\n",
    "Body Mass is a continuous variable and quite often the weights of a population are normally distributed meaning we could potentially model it using the 'normal distribution'. However if we look at the data we can see the difference between the mean and 50th percentile is significant and the deviations between min/max and the mean indicate some amount of skewness in the data."
   ]
  },
  {
   "cell_type": "code",
   "execution_count": 11,
   "metadata": {},
   "outputs": [
    {
     "data": {
      "text/plain": [
       "count     342.000000\n",
       "mean     4201.754386\n",
       "std       801.954536\n",
       "min      2700.000000\n",
       "25%      3550.000000\n",
       "50%      4050.000000\n",
       "75%      4750.000000\n",
       "max      6300.000000\n",
       "Name: body_mass_g, dtype: float64"
      ]
     },
     "execution_count": 11,
     "metadata": {},
     "output_type": "execute_result"
    }
   ],
   "source": [
    "df.body_mass_g.describe()"
   ]
  },
  {
   "cell_type": "markdown",
   "metadata": {},
   "source": [
    "We know there are different species of penguin in the data set so next step would be to look at each species individually... "
   ]
  },
  {
   "cell_type": "code",
   "execution_count": 12,
   "metadata": {},
   "outputs": [
    {
     "data": {
      "text/plain": [
       "count     123.000000\n",
       "mean     5076.016260\n",
       "std       504.116237\n",
       "min      3950.000000\n",
       "25%      4700.000000\n",
       "50%      5000.000000\n",
       "75%      5500.000000\n",
       "max      6300.000000\n",
       "Name: body_mass_g, dtype: float64"
      ]
     },
     "execution_count": 12,
     "metadata": {},
     "output_type": "execute_result"
    }
   ],
   "source": [
    "gentoo_df = df.loc[df.loc[:,'species'] == 'Gentoo']\n",
    "gentoo_df.body_mass_g.describe()"
   ]
  },
  {
   "cell_type": "code",
   "execution_count": 13,
   "metadata": {},
   "outputs": [
    {
     "data": {
      "text/plain": [
       "count      68.000000\n",
       "mean     3733.088235\n",
       "std       384.335081\n",
       "min      2700.000000\n",
       "25%      3487.500000\n",
       "50%      3700.000000\n",
       "75%      3950.000000\n",
       "max      4800.000000\n",
       "Name: body_mass_g, dtype: float64"
      ]
     },
     "execution_count": 13,
     "metadata": {},
     "output_type": "execute_result"
    }
   ],
   "source": [
    "chinstrap_df = df.loc[df.loc[:,'species'] == 'Chinstrap']\n",
    "chinstrap_df.body_mass_g.describe()"
   ]
  },
  {
   "cell_type": "code",
   "execution_count": 14,
   "metadata": {},
   "outputs": [
    {
     "data": {
      "text/plain": [
       "count     151.000000\n",
       "mean     3700.662252\n",
       "std       458.566126\n",
       "min      2850.000000\n",
       "25%      3350.000000\n",
       "50%      3700.000000\n",
       "75%      4000.000000\n",
       "max      4775.000000\n",
       "Name: body_mass_g, dtype: float64"
      ]
     },
     "execution_count": 14,
     "metadata": {},
     "output_type": "execute_result"
    }
   ],
   "source": [
    "adelie_df = df.loc[df.loc[:,'species'] == 'Adelie']\n",
    "adelie_df.body_mass_g.describe()"
   ]
  },
  {
   "cell_type": "markdown",
   "metadata": {},
   "source": [
    "Checking mode for Chinstrap penguin weight"
   ]
  },
  {
   "cell_type": "code",
   "execution_count": 15,
   "metadata": {},
   "outputs": [
    {
     "data": {
      "text/plain": [
       "0    3400.0\n",
       "1    3650.0\n",
       "2    3700.0\n",
       "3    3800.0\n",
       "4    3950.0\n",
       "5    4050.0\n",
       "Name: body_mass_g, dtype: float64"
      ]
     },
     "execution_count": 15,
     "metadata": {},
     "output_type": "execute_result"
    }
   ],
   "source": [
    "chinstrap_df.body_mass_g.mode()"
   ]
  },
  {
   "cell_type": "markdown",
   "metadata": {},
   "source": [
    "Now looking at the mean, mode and median of the data split out for chinstrap penguins for example - we can see that they are almost equal so we could say the data is normally distributed. We would find similar results for both Gentoo and Adelie species if we split them out.\n",
    "\n",
    "With this in mind, to model the data it would be best to split out by penguin species and then use the normal distribution as follows:   \n",
    "\n",
    "mu, sigma = 0, 0.1 # mean and standard deviation   \n",
    "s = np.random.default_rng().normal(mu, sigma, 1000)"
   ]
  },
  {
   "cell_type": "code",
   "execution_count": 24,
   "metadata": {},
   "outputs": [
    {
     "name": "stdout",
     "output_type": "stream",
     "text": [
      "Randam weights for Chinstrap penguins: \n",
      "[4016.06962406 3446.32996885 3278.66317723 4224.78593765 3842.44446957\n",
      " 3226.39145074 4179.66280541 4095.96500222 3161.81664198 3570.4010182\n",
      " 3488.96347224 3407.08419154 3041.25391274 3079.43534333 3773.48420189\n",
      " 3106.0364308  3103.40705873 2772.18758443 3574.90474939 3563.12350837\n",
      " 4094.4278527  4194.07785623 3710.11585568 4342.11588011 3954.84980268\n",
      " 3449.59141258 3508.82655418 3529.17560187 3669.5436552  3198.7606102\n",
      " 3512.55079384 4203.7719651  3017.88081207 3495.99640476 3573.8323343\n",
      " 3503.86465484 4465.80662187 3697.33535298 4092.4646746  3970.28000116\n",
      " 3720.856785   3658.66990758 3795.6012675  3547.4138968  2828.83376807\n",
      " 4048.56921354 3675.8986591  3364.5632078  3246.36479036 4393.64759983\n",
      " 3455.05205957 3833.61853712 3500.10911526 3794.15688841 4174.81887838\n",
      " 4082.38075316 3805.38569514 4183.85908038 3782.59931508 3605.38706669\n",
      " 3806.86439115 3943.2358101  3743.25089267 3279.63908732 3982.9323446\n",
      " 4017.62173145 4028.58375357 3642.19045253 3816.2535739  3500.56595995\n",
      " 3494.81852568 3815.3807862  4109.54608924 3515.2792593  3747.91998367\n",
      " 3751.7725907  3768.24376261 3252.56978732 3184.4466467  3124.45821529\n",
      " 3897.76649095 3217.82402654 3779.30050089 3603.43218876 3329.89722489\n",
      " 3404.94330688 3727.29727371 3887.02031343 3084.47643531 3753.7656932\n",
      " 3590.13577778 3791.40265466 3376.40643352 4224.80942583 3228.02120674\n",
      " 3812.21555537 2979.50869719 3813.50700411 3981.48764844 3836.27787917\n",
      " 3624.63294371 3445.94404963 3952.15819643 3853.73202108 3975.46853619\n",
      " 4575.69316351 4121.23606952 3583.21001224 3286.40032278 4044.21433834\n",
      " 3313.2910569  3700.77189193 3887.64210887 3456.90363194 3677.39312793\n",
      " 4393.32712506 3986.37922986 3103.83659898 3542.49545607 4129.34352203\n",
      " 4388.15551718 3450.65219212 3497.10495867 3694.73373575 3846.03277874\n",
      " 3447.37481835 4213.86302636 3737.73737961 3291.95398447 3931.31005604\n",
      " 3770.62828454 4052.95639775 3591.82735307 4156.78994233 3966.94150449\n",
      " 3683.6509251  4269.31445126 4130.1403785  3804.02169971 3927.83681355\n",
      " 3820.50964251 3946.13569266 3650.39435031 3488.92963555 4093.29938562\n",
      " 3788.18132384 3613.4458432  3019.56122666 4014.15604499 4327.31165852\n",
      " 3607.80557393 3977.96372569 3136.87761185 3422.60335829 4707.01802913\n",
      " 2891.27053163 4061.33833809 3863.30585576 3739.9489834  3999.28705896\n",
      " 4334.99725096 3182.86659011 3813.6265051  3892.26815254 4596.35974826\n",
      " 2920.10033202 3511.98624867 3423.60102268 3954.20751326 4016.79099196\n",
      " 3830.86299901 3545.0606396  3759.64584903 4467.1823903  3789.29917916\n",
      " 3782.92726496 3617.85166471 4187.02236742 3123.98865082 4527.55655112\n",
      " 3816.61195339 3564.1676941  4015.84983936 4091.25528463 4079.20378749\n",
      " 3665.2606523  3112.84344221 3602.65201794 3928.99585684 4270.8250114\n",
      " 3646.50830575 3784.84512987 3373.47635446 3996.42097024 3720.36116612\n",
      " 3925.92520945 3121.04198114 3400.13016457 3465.87488949 4035.66963357\n",
      " 3970.81308076 3566.89027084 3055.78901896 3499.72797231 4025.58701186\n",
      " 3378.84439809 3991.1873456  3772.98909869 3762.77728956 2903.69130052\n",
      " 3570.13695373 3524.91648181 2965.0229304  3031.83069485 3419.249306\n",
      " 3828.80636144 3822.59510193 2771.60480787 4015.98492427 3549.86159992\n",
      " 2842.32843882 3494.21783925 3353.73143937 2852.184481   3371.500855\n",
      " 3414.18441284 4060.90936313 3800.41756106 3660.63126009 3588.68944836\n",
      " 4022.54804414 3471.93990245 3852.06686826 3338.13224183 4131.53766555\n",
      " 2969.63625866 3806.18070491 2946.57372552 3545.04544533 2917.38483835\n",
      " 4468.83260371 4069.63124379 4008.17395062 4108.20544376 3694.91282141\n",
      " 3335.59490695 3083.69640211 3383.57764408 3560.56202464 3561.44295309\n",
      " 4427.68751354 3701.60895074 3759.94489028 3688.94051266 4100.06667297\n",
      " 3792.57984251 3628.05654374 4117.68595391 3442.1783623  4250.21454264\n",
      " 3889.12455252 3980.06544448 3559.9140234  3323.86142248 3803.01211883\n",
      " 3692.36505334 3361.68616616 3965.5335828  4118.97945846 3296.54072961\n",
      " 3517.7957634  3711.20740575 3851.91004861 3491.1122014  3986.03905465\n",
      " 3105.55909327 4069.21102627 2823.1258673  4163.91118952 3927.08783347\n",
      " 3953.20828545 3741.24756899 4214.49446448 3221.67948075 3761.41654947\n",
      " 3968.91464258 3409.61544151 3281.71125274 3137.79311784 4351.90048979\n",
      " 3235.52505647 3426.16788416 4054.18178403 4074.92938188 4338.87492529\n",
      " 3642.92645363 2693.94114766 3127.19721078 3572.28360802 3853.26225747\n",
      " 3431.56887511 2937.10350152 4761.7886045  3035.72488851 4000.75841725\n",
      " 3547.29007124 3787.65466033 3696.09598687 3540.72794354 4278.90473914\n",
      " 3352.5727232  3943.11614316 3714.63778749 3268.53463323 3012.50452937\n",
      " 3474.26394819 3843.44229574 3723.26096414 3560.48447973 4067.13315961\n",
      " 3875.83922733 4047.93594664 3180.19705673 3357.84980868 3720.28597551\n",
      " 3535.69728867 3638.17840435 3821.80217793 3707.72370341 3501.69942733\n",
      " 3804.63615721 4130.81494206 4013.41347814 2897.05193573 4197.23986265\n",
      " 4285.90401664 3617.21233125 3213.62195271 4732.09870051 3324.81571942\n",
      " 4298.6243907  4124.45851341 3812.13757632 3382.18618446 3967.67688147\n",
      " 3810.06861339 3528.61608909 3595.13937156 3917.62254363 3827.09834552\n",
      " 3498.15536316 4161.83409485 4500.40752253 4549.34330934 3805.22903337\n",
      " 3608.57544978 3628.66028635 4141.93923298 3571.11788085 4049.34903203\n",
      " 3937.89810387 3928.39790173 4350.13106307 2711.25591327 3345.15082787\n",
      " 2860.88669305 2820.68802986 3933.42493884 3580.06306817 3385.79445247\n",
      " 3632.89125461 3727.13516548 3976.77093038 3359.54205022 3135.01223836\n",
      " 3222.65875821 3648.98380343 4093.37458534 4203.09764334 3917.89553473\n",
      " 4418.22061426 3633.1092052  3672.12019689 3811.03253657 3639.13268309\n",
      " 4720.51259159 3578.39763594 4002.10125806 4048.75090353 4413.34418725\n",
      " 3324.09754754 3613.94014706 3426.43998832 3108.78137203 3695.59660389\n",
      " 4013.02783957 3423.78580755 3758.86028995 4033.46276844 3921.1263361\n",
      " 3470.61363341 4425.08924765 3005.03924209 3236.86058858 3605.10292667\n",
      " 3634.93197985 3851.71148408 3380.36726978 3953.97994611 2965.84042971\n",
      " 3876.47705917 3684.47126918 4462.67203618 3339.49453448 3031.2474267\n",
      " 4087.4566537  3525.64528896 4303.09128363 3658.70162977 4188.82804284\n",
      " 4026.80933908 3515.3114799  3487.61961084 3444.45593974 3715.39119708\n",
      " 3714.10053446 3988.4524168  3430.63392485 3965.2663278  3767.0305197\n",
      " 3671.94489111 3942.96709206 3484.81170863 3832.9897969  3487.33842214\n",
      " 3361.24827153 3829.8648383  3003.56755445 3340.56545228 3429.57099802\n",
      " 3335.29328273 4190.65161192 3247.53343543 3808.81855828 3655.16762144\n",
      " 2918.11560888 4182.26437303 2491.92485045 3380.71202797 3890.90084558\n",
      " 2995.84555694 3876.0152735  3890.65938892 4527.50114057 2751.7514629\n",
      " 4003.20328633 3536.46776746 4252.57263751 3477.46456139 3505.30913236\n",
      " 3968.30355142 4233.01814225 3343.9827031  3432.64002232 3683.03996866\n",
      " 4044.7094673  3693.42301208 4708.78754663 4213.00066295 3633.49987654\n",
      " 4010.07549977 3982.1725814  3455.40610588 3873.75458843 3624.35874431\n",
      " 4255.97885269 3293.26787874 3945.53625787 4247.43568775 3155.92595095\n",
      " 3746.73320616 3602.91505187 3942.28776695 3830.762786   3858.20796618\n",
      " 3735.08123566 4107.49965783 3131.66106633 3110.60142307 2768.21921566\n",
      " 3657.73138167 4112.8454231  4107.35051963 3332.60536779 3568.51637966\n",
      " 4126.85224218 3896.39849548 3702.43856045 3468.4997759  3472.41094162\n",
      " 3654.40215478 4173.94904764 3312.06647544 3621.03504421 3582.75717192\n",
      " 2936.42877852 4169.03732043 4025.86883364 3687.38604689 3906.0566359\n",
      " 3933.37075293 3983.99934819 3574.20628921 3358.46876071 3825.92209375\n",
      " 3615.1681241  3708.66830196 4237.38495852 3994.51229945 3594.07056858\n",
      " 3694.90731516 4061.40845594 3374.95573519 3594.55013936 3571.28393148\n",
      " 3831.373692   3980.32410925 3954.82441541 3998.63155123 3887.46906793\n",
      " 4002.93269628 3906.53333911 3508.11751937 3199.49153747 3799.28182912\n",
      " 3505.97507751 3501.04724795 2559.87975302 3144.91356465 3679.18333553\n",
      " 3044.81382797 3806.85911087 3699.90762237 3272.77874378 3661.67661019\n",
      " 4008.36598534 3388.75434833 3921.10625227 3643.05703948 3312.00248375\n",
      " 3030.73765991 3717.88982837 4069.94982583 4279.25652369 4128.96214876\n",
      " 3606.80729697 3373.11550895 3460.26638911 3280.77008148 4160.36627678\n",
      " 3797.09139642 4906.03399956 3488.50350016 3421.0897388  3793.15749049\n",
      " 3859.31929896 4121.6873254  3387.51107633 3143.57913386 3832.73952797\n",
      " 4262.68819244 4099.70350901 4196.3931992  3979.29096805 3497.26311682\n",
      " 3647.14002382 4072.3852146  3693.90931713 3052.43660044 3923.81800498\n",
      " 3723.67579559 3220.77641465 3233.70229438 3726.5038064  3789.53773986\n",
      " 4149.11039504 3772.73539213 3806.13505468 3355.10592701 3720.15247113\n",
      " 4019.24025644 3413.61133354 3201.32693027 3457.3063923  3394.11688643\n",
      " 3812.98130864 3969.99128715 4728.08854251 4158.10626657 3485.34134639\n",
      " 4044.82351064 4265.22433071 3747.31514375 4028.6362551  3723.34639976\n",
      " 4013.76373528 3269.85238361 4264.64050532 4189.1710424  3160.36391937\n",
      " 3501.12043107 3369.8656193  4074.98155485 3609.46932989 3006.84521301\n",
      " 3884.68459442 4312.61141148 3197.07425519 3968.7634215  3656.33584272\n",
      " 4405.03790778 3861.07997084 3977.23978381 4236.09102341 3623.63925641\n",
      " 3925.50314506 4519.31793263 3795.87905792 3355.62777522 3901.29782777\n",
      " 3793.73912458 3525.10768033 4335.00690225 3547.9602931  3821.53205076\n",
      " 4016.53537626 3095.13738207 3139.54560032 3580.28967141 3066.88785293\n",
      " 3807.20854448 3920.82202135 3320.27004819 3764.67284302 4245.29170855\n",
      " 3166.94220758 3290.68194706 4046.47606199 3962.06648301 3517.42392229\n",
      " 3234.77415424 3692.79986959 3490.01833801 4215.19202381 3501.13424582\n",
      " 3766.32867856 3231.42901774 3156.7568497  3498.05461841 3018.34998154\n",
      " 3723.09952797 3598.1868501  4016.94774553 3529.19517485 3185.2568526\n",
      " 3780.65837877 3433.82138932 3982.66899663 4177.7177872  3572.72217824\n",
      " 3689.77864756 3971.63741373 3414.69529811 3039.70336821 3491.0817286\n",
      " 4387.94662422 3850.96750505 3604.02053306 3362.85915247 3040.39130929\n",
      " 3720.81198575 4191.85334176 3791.62724187 3744.21880113 3235.37062137\n",
      " 3309.37164421 3755.84902641 3543.39235106 3434.98715471 3987.86262915\n",
      " 3565.72053498 3227.48303242 3247.32985136 4166.91825996 3149.2079939\n",
      " 3805.19762949 3735.68206163 3721.87977147 3518.024497   3112.87710401\n",
      " 2994.89293412 3752.03427278 4107.97811029 3539.66238915 4139.31534753\n",
      " 4239.4973545  3396.20053589 3280.30022325 3718.98678394 3123.66003898\n",
      " 3715.43518783 3817.09336294 4272.92018197 3053.10080337 3495.74829707\n",
      " 3883.4533826  3502.24117159 3541.18983515 4018.93631797 3606.80019624\n",
      " 3365.57534301 3346.46133197 2888.29037804 3869.89438437 2958.77244745\n",
      " 4186.22201056 4171.02108787 3688.58076785 3362.1335064  3938.63508953\n",
      " 3068.00852201 3236.39870494 3789.90115623 3860.25420662 3288.04445564\n",
      " 4122.32529519 3346.09423627 3472.68356024 3742.09978908 3785.29925062\n",
      " 3278.2271278  3822.84370706 3703.37432801 4096.167649   4114.73345089\n",
      " 3778.72157454 3694.58901302 3362.86924898 3835.44178585 2823.27737229\n",
      " 2972.15228625 3687.80476894 4064.25623994 3570.00665347 3082.98319948\n",
      " 4453.43395825 3548.67994897 4089.61446645 3451.14819172 3747.29621902\n",
      " 3122.88619771 3881.51703804 3597.90657205 3720.07856153 3591.7111745\n",
      " 3938.79094661 4581.93069142 3732.99400947 4038.04542875 4739.5134384\n",
      " 4402.82468832 2747.1493056  3599.84859756 4073.36194718 3917.57185561\n",
      " 3826.97869591 3497.47387286 3496.19736575 3905.58636037 3944.89564396\n",
      " 3940.94138825 3966.08492883 3330.32260675 4342.80262391 3776.43416107\n",
      " 3561.27839471 4038.76788553 3935.17188801 4041.02143383 4525.17346307\n",
      " 3111.05039632 3550.91606189 4427.60821675 4147.88191868 3969.18042361\n",
      " 3866.50605224 3433.60640597 3738.55927301 4233.23333814 3600.61860692\n",
      " 3149.15398568 3406.27910115 3820.32619491 3649.58583934 3732.25461001\n",
      " 4050.6730229  3626.65995345 3987.6226079  3948.8938477  3602.07709362\n",
      " 3561.25625615 3455.05765031 4033.53699092 3301.24841118 3674.25739723\n",
      " 3106.83954052 3790.00490885 3579.52142139 2952.53827538 4081.3996202\n",
      " 3673.20970975 2590.94083971 3320.96191283 3802.43689661 3885.05192253\n",
      " 4272.56936412 4188.21190556 3869.37602048 3368.32811684 3965.04605821\n",
      " 3848.30158371 3766.91753866 3770.91313749 3953.27665517 2889.55710089\n",
      " 3415.10442413 3714.09496851 3894.85765701 3662.10316132 3946.48160053\n",
      " 3301.03533784 4009.18429449 3769.70664755 4017.48230443 3453.92322789\n",
      " 3389.00505924 3431.17792491 3864.89388616 3371.90083604 3266.8722913\n",
      " 3873.91326862 4374.07713388 4154.60776199 3750.22041764 4778.20711708\n",
      " 3538.92872268 3688.22146341 3630.26277687 4158.7048649  3623.5065966\n",
      " 3869.52745448 4512.81122287 3827.11910905 3588.77950368 3725.50944492\n",
      " 3935.6306718  2961.56151602 3773.21744664 3914.87352865 3263.24266163\n",
      " 3385.91050722 4730.25840705 3075.69714373 4619.49430121 4344.78926349\n",
      " 3249.11746961 4539.41157301 3905.49000058 4439.93829156 3625.18078055\n",
      " 2623.84502681 3941.11779803 3609.79755109 3161.66181203 4241.73265769\n",
      " 4040.25199891 3025.09743222 3232.02383024 3567.00824409 4115.4770723\n",
      " 3318.264192   4138.23403292 3619.6286182  4185.13811444 3176.18527141\n",
      " 4136.20641114 2424.66531586 3778.84025222 3989.31655939 3922.05248604\n",
      " 3613.59895109 3615.35352366 3416.64998665 4099.03917447 3140.54877275\n",
      " 3415.13921518 3278.25227113 3482.63082063 4291.39862355 3751.11452373\n",
      " 4095.6894204  3705.96244543 3819.31516692 3448.86492102 3416.44103998\n",
      " 3879.95990474 4421.17980404 3256.76711429 4059.68150486 4154.32627364\n",
      " 3605.71042508 3787.04550745 4054.48402429 3753.58814075 3347.79790589\n",
      " 2579.57638757 3384.71395998 3845.81796701 3757.24370994 3541.47881904\n",
      " 3850.76163304 3841.76548843 3409.08182595 4135.65866058 3958.65353331\n",
      " 3252.16712039 3765.67059848 3857.41403211 3911.34314046 3507.629171\n",
      " 3999.59743019 4381.02906623 3606.96838124 3335.48944734 3679.0786736\n",
      " 3927.41449081 2954.07217678 3517.86039025 3351.33530008 3894.17882442\n",
      " 4055.7964486  3720.05584263 3804.99368745 3331.94814872 3625.73778546\n",
      " 4373.9068355  3634.26723984 3350.63272831 3629.56264301 3491.52984622\n",
      " 3769.02424303 3838.91861304 3584.18250382 3712.10873702 4101.4203424\n",
      " 3514.37365776 4450.00903536 3733.81465304 3375.19224466 3683.8249867\n",
      " 3491.96769643 3401.91744205 3646.34241206 3604.71163829 3700.4914001\n",
      " 3611.54742107 3478.44531134 3053.43644477 3788.0379689  3081.53392134\n",
      " 3926.43060851 3907.03593532 3553.6473341  3875.69692885 3722.89128292\n",
      " 3643.56075964 2963.25414073 3812.74199229 3494.25133082 3191.85409931\n",
      " 3490.76987421 3873.56941906 4542.49720897 4067.1339156  4188.62049964\n",
      " 3254.51491231 4320.33922326 3502.4729989  3245.59694089 4183.23955859]\n"
     ]
    }
   ],
   "source": [
    "# Model body_mass_g variable using normal distributions\n",
    "rng = np.random.default_rng()\n",
    "\n",
    "mu, sigma = 3700, 384.335081  # mean, standard deviation for Chinstrap penguins\n",
    "body_mass_prob = np.random.default_rng().normal(mu, sigma, 1000)\n",
    "\n",
    "# Print results\n",
    "print (f'Randam weights for Chinstrap penguins: \\n{body_mass_prob}')"
   ]
  },
  {
   "cell_type": "code",
   "execution_count": 17,
   "metadata": {},
   "outputs": [
    {
     "ename": "NameError",
     "evalue": "name 'chinstrap_l' is not defined",
     "output_type": "error",
     "traceback": [
      "\u001b[0;31m---------------------------------------------------------------------------\u001b[0m",
      "\u001b[0;31mNameError\u001b[0m                                 Traceback (most recent call last)",
      "\u001b[1;32m/Users/pbarry/repos/fund_da/tasks.ipynb Cell 43\u001b[0m line \u001b[0;36m1\n\u001b[1;32m      <a href='vscode-notebook-cell:/Users/pbarry/repos/fund_da/tasks.ipynb#X61sZmlsZQ%3D%3D?line=0'>1</a>\u001b[0m \u001b[39m# Checking central tendancy\u001b[39;00m\n\u001b[1;32m      <a href='vscode-notebook-cell:/Users/pbarry/repos/fund_da/tasks.ipynb#X61sZmlsZQ%3D%3D?line=1'>2</a>\u001b[0m \n\u001b[1;32m      <a href='vscode-notebook-cell:/Users/pbarry/repos/fund_da/tasks.ipynb#X61sZmlsZQ%3D%3D?line=2'>3</a>\u001b[0m \u001b[39m# Display the Mean\u001b[39;00m\n\u001b[0;32m   (...)\u001b[0m\n\u001b[1;32m     <a href='vscode-notebook-cell:/Users/pbarry/repos/fund_da/tasks.ipynb#X61sZmlsZQ%3D%3D?line=9'>10</a>\u001b[0m \u001b[39m# chinstrap_l['body_mass_g'].median()\u001b[39;00m\n\u001b[1;32m     <a href='vscode-notebook-cell:/Users/pbarry/repos/fund_da/tasks.ipynb#X61sZmlsZQ%3D%3D?line=10'>11</a>\u001b[0m \u001b[39m#chinstrap_l['body_mass_g'].mode() # Note - mode can have multiple values!\u001b[39;00m\n\u001b[0;32m---> <a href='vscode-notebook-cell:/Users/pbarry/repos/fund_da/tasks.ipynb#X61sZmlsZQ%3D%3D?line=12'>13</a>\u001b[0m \u001b[39mprint\u001b[39m(\u001b[39mf\u001b[39m\u001b[39m'\u001b[39m\u001b[39mThe mean is \u001b[39m\u001b[39m{\u001b[39;00mchinstrap_l[\u001b[39m\"\u001b[39m\u001b[39mbody_mass_g\u001b[39m\u001b[39m\"\u001b[39m]\u001b[39m.\u001b[39mmean()\u001b[39m}\u001b[39;00m\u001b[39m and the median is \u001b[39m\u001b[39m{\u001b[39;00mchinstrap_l[\u001b[39m\"\u001b[39m\u001b[39mbody_mass_g\u001b[39m\u001b[39m\"\u001b[39m]\u001b[39m.\u001b[39mmedian()\u001b[39m}\u001b[39;00m\u001b[39m'\u001b[39m)\n\u001b[1;32m     <a href='vscode-notebook-cell:/Users/pbarry/repos/fund_da/tasks.ipynb#X61sZmlsZQ%3D%3D?line=13'>14</a>\u001b[0m \u001b[39mprint\u001b[39m(\u001b[39mf\u001b[39m\u001b[39m'\u001b[39m\u001b[39mThe mode is \u001b[39m\u001b[39m{\u001b[39;00mchinstrap_l[\u001b[39m\"\u001b[39m\u001b[39mbody_mass_g\u001b[39m\u001b[39m\"\u001b[39m]\u001b[39m.\u001b[39mmode()\u001b[39m}\u001b[39;00m\u001b[39m'\u001b[39m)\n",
      "\u001b[0;31mNameError\u001b[0m: name 'chinstrap_l' is not defined"
     ]
    }
   ],
   "source": [
    "# Checking central tendancy\n",
    "\n",
    "# Display the Mean\n",
    "\n",
    "#m1 = chinstrap_l.mean()\n",
    "\n",
    "#m1\n",
    "\n",
    "# chinstrap_l['body_mass_g'].mean()\n",
    "# chinstrap_l['body_mass_g'].median()\n",
    "#chinstrap_l['body_mass_g'].mode() # Note - mode can have multiple values!\n",
    "\n",
    "print(f'The mean is {chinstrap_l[\"body_mass_g\"].mean()} and the median is {chinstrap_l[\"body_mass_g\"].median()}')\n",
    "print(f'The mode is {chinstrap_l[\"body_mass_g\"].mode()}')"
   ]
  },
  {
   "cell_type": "code",
   "execution_count": null,
   "metadata": {},
   "outputs": [],
   "source": [
    "# Display the mode\n",
    "\n",
    "m2 = chinstrap_l.mode()\n",
    "\n",
    "m2"
   ]
  },
  {
   "cell_type": "markdown",
   "metadata": {},
   "source": [
    "Checking mean, mode and median - they are almost equal so we can say the data is normally distributed..."
   ]
  },
  {
   "cell_type": "code",
   "execution_count": null,
   "metadata": {},
   "outputs": [],
   "source": [
    "gentoo_l_female.mean()"
   ]
  },
  {
   "cell_type": "code",
   "execution_count": null,
   "metadata": {},
   "outputs": [],
   "source": [
    "gentoo_l_female.mode()"
   ]
  },
  {
   "cell_type": "code",
   "execution_count": null,
   "metadata": {},
   "outputs": [],
   "source": [
    "gentoo_l_female.median()"
   ]
  },
  {
   "cell_type": "code",
   "execution_count": null,
   "metadata": {},
   "outputs": [],
   "source": [
    "gentoo_l_female['body_mass_g'].mode()"
   ]
  },
  {
   "cell_type": "markdown",
   "metadata": {},
   "source": [
    "Again, checking mean, mode and median of the data split out for female gentoo penguins only - they are almost equal so we can say the data is normally distributed and could use the below formula from numpy.org:   \n",
    "mu, sigma = 0, 0.1 # mean and standard deviation\n",
    "s = np.random.default_rng().normal(mu, sigma, 1000)"
   ]
  },
  {
   "cell_type": "markdown",
   "metadata": {},
   "source": [
    "### Flipper Length\n",
    "\n",
    "Flipper Length is also a continuous variable...so to view the data we again can plot a histogram"
   ]
  },
  {
   "cell_type": "code",
   "execution_count": null,
   "metadata": {},
   "outputs": [],
   "source": [
    "# Histogram code\n",
    "import matplotlib.pyplot as plt\n",
    "\n",
    "# Create a list just for Flipper Length and generate a histogram\n",
    "flipper_length_l = []\n",
    "for x in df['flipper_length_mm']:\n",
    "    flipper_length_l.append(x)\n",
    "\n",
    "# Add title and labels\n",
    "#plt.title(\"Body Mass\")\n",
    "#plt.xlabel(\"Weight (grams)\")\n",
    "#plt.ylabel(\"Frequency\")\n",
    "plt.hist(flipper_length_l);\n",
    "#plt.show()"
   ]
  },
  {
   "cell_type": "markdown",
   "metadata": {},
   "source": [
    "Again we see skewness in the data so will break out the histogram by penguin type"
   ]
  },
  {
   "cell_type": "code",
   "execution_count": null,
   "metadata": {},
   "outputs": [],
   "source": [
    "# Split out by species\n",
    "gentoo_l=df.loc[df[\"species\"]==\"Gentoo\"]\n",
    "chinstrap_l=df.loc[df[\"species\"]==\"Chinstrap\"]\n",
    "adelie_l=df.loc[df[\"species\"]==\"Adelie\"]\n",
    "\n",
    "# Sort the data\n",
    "#gentoo_l.sort_values(\"body_mass_g\")\n",
    "#chinstrap_l.sort_values(\"body_mass_g\")\n",
    "#adelie_l.sort_values(\"body_mass_g\")\n",
    "\n",
    "# Add title and labels\n",
    "plt.title(\"Flipper Length Comparison\")\n",
    "plt.xlabel(\"Length (mm)\")\n",
    "plt.ylabel(\"Frequency\")\n",
    "# create the plots\n",
    "plt.hist(gentoo_l[\"flipper_length_mm\"],label='Gentoo')\n",
    "plt.hist(adelie_l[\"flipper_length_mm\"],label='Adelie')\n",
    "plt.hist(chinstrap_l[\"flipper_length_mm\"],label='Chinstrap')\n",
    "plt.legend();"
   ]
  },
  {
   "cell_type": "markdown",
   "metadata": {},
   "source": [
    "We now see that the histogram is showing a more normal distribution. Similar to the previous section on body mass, the further we break down the data (i.e. by species, by gender etc.) the more normal the data will become.\n",
    "\n",
    "To model this data we could also use the Normal Distribution using the below formula from numpy.org  \n",
    "\n",
    "mu, sigma = 0, 0.1 # mean and standard deviation   \n",
    "s = np.random.default_rng().normal(mu, sigma, 1000)"
   ]
  },
  {
   "cell_type": "markdown",
   "metadata": {},
   "source": [
    "# Task4\n",
    "\n",
    ">The purpose of this task is to plot the entropy of the total number of heads versus the probability $p$ of giving heads when flipping two coins."
   ]
  },
  {
   "cell_type": "markdown",
   "metadata": {},
   "source": [
    "Firstly we get the probability of both coins returning a H for 10000 tosses and plot this for reference.\n",
    "\n",
    "Note: we are making the assumption that the question refers to the probability of both coins landing on Heads with each single toss - i.e. 1 in 4 chance (**HH**, HT, TH, TT) as opposed to referring to either coin landing on a Head which would be 3 in 4 chance (**HH**, **HT**, **TH**, TT)."
   ]
  },
  {
   "cell_type": "code",
   "execution_count": null,
   "metadata": {},
   "outputs": [],
   "source": [
    "# Flipping two coins 10000 times to show the resulting probability of getting HH\n",
    "rand_coins = np.random.binomial(2, .5, 10000)\n",
    "\n",
    "# Plot the results\n",
    "fig, ax = plt.subplots(figsize=(12, 4))\n",
    "x, counts = np.unique(rand_coins, return_counts=True)\n",
    "ax.bar(x, counts);"
   ]
  },
  {
   "cell_type": "code",
   "execution_count": null,
   "metadata": {},
   "outputs": [],
   "source": [
    "# Display the counts value\n",
    "\n",
    "counts"
   ]
  },
  {
   "cell_type": "markdown",
   "metadata": {},
   "source": [
    "As expected, the probability of HH comes in at approx .25 which we can verify with... "
   ]
  },
  {
   "cell_type": "code",
   "execution_count": null,
   "metadata": {},
   "outputs": [],
   "source": [
    "# probability would be .5 for each coin so combined would be\n",
    "p = .50 * .50\n",
    "\n",
    "p"
   ]
  },
  {
   "cell_type": "code",
   "execution_count": null,
   "metadata": {},
   "outputs": [],
   "source": [
    "# Define the Entropy Formula as a function\n",
    "\n",
    "def H(p):\n",
    "    return -(1 - p) * np.log2(1.0 - p) - p * np.log2(p)"
   ]
  },
  {
   "cell_type": "code",
   "execution_count": null,
   "metadata": {},
   "outputs": [],
   "source": [
    "# Calculate the Entropy value for the probability achieved above (i.e 25%)\n",
    "\n",
    "H(0.25)"
   ]
  },
  {
   "cell_type": "code",
   "execution_count": null,
   "metadata": {},
   "outputs": [],
   "source": [
    "# Plotting Entropy\n",
    "\n",
    "fig, ax = plt.subplots(figsize= (8,4))\n",
    "\n",
    "# Plot full range of probabilities from 0 to 1 and the associated Enttopy value\n",
    "p = np.linspace(0.000001, 0.999999, 10001)\n",
    "ax.plot(p, H(p));\n",
    "\n",
    "# Add lines to indicate where our Probability (25%) and Entropy (0.81) meet\n",
    "p=0.25 #Probability\n",
    "e=0.81 #Entropy\n",
    "\n",
    "plt.plot((p, p), (0.0, e),color='r');\n",
    "plt.plot((0.0, p), (e, e),color='r');\n",
    "plt.scatter(0.25, 0.81,color='r');\n",
    "plt.title(\"Entropy v Probability for 2xH for two coin tosses\")\n",
    "plt.xlabel(\"Probability\");\n",
    "plt.ylabel(\"Entropy \");"
   ]
  },
  {
   "cell_type": "markdown",
   "metadata": {},
   "source": [
    "# Task5\n",
    "\n",
    ">The purpose of this task is to create approprite individual plots for each of the variables in the penguin data set.\n",
    "\n",
    "The following are the variables in the dataset:\n",
    "\n",
    "| Variable Name |\n",
    "| --- |\n",
    "| species |\n",
    "| island |\n",
    "| bill_length_mm |\n",
    "| bill_depth_mm |\n",
    "| flipper_length_mm |\n",
    "| body_mass_g |\n",
    "| sex |\n",
    "\n",
    "Describe the data and give reason for the chosen plot type...\n",
    "discrete v continuous, \n",
    "Notes \n",
    "Species - Pie/Bar Chart   \n",
    "Island - Pie/Bar Chart   \n",
    "Sex - Pie Chart   \n",
    "flipper/bill size and mass - historgrams   \n",
    "\n",
    "Scatter Plots for comparing x vs y etc\n",
    "\n",
    "\n",
    "\n",
    "Sources:\n",
    "https://www.kaggle.com/code/tirendazacademy/penguin-dataset-data-visualization-with-seaborn\n",
    "\n"
   ]
  },
  {
   "cell_type": "markdown",
   "metadata": {},
   "source": [
    "### species\n",
    "Species is a categorical variable and as we saw earlier, contains just three possible values - Adelie, Chinstrap and Gentoo. The most appropriate plot to use would be a bar chart showing the frequency/count of each species."
   ]
  },
  {
   "cell_type": "code",
   "execution_count": null,
   "metadata": {},
   "outputs": [],
   "source": [
    "# species\n",
    "\n",
    "#Create a list just for Species and generate a bar chart\n",
    "\n",
    "import matplotlib.pyplot as plt\n",
    "\n",
    "species_l = []\n",
    "for x in df['species']:\n",
    "    species_l.append(x)\n",
    "\n",
    "plt.title(\"Species\")\n",
    "plt.ylabel(\"Frequency\")\n",
    "temp=np.unique(species_l)\n",
    "freq_list = []\n",
    "for x in temp:\n",
    "    freq_list.append(species_l.count(x))\n",
    "\n",
    "plt.bar(temp, freq_list)\n",
    "plt.show;"
   ]
  },
  {
   "cell_type": "markdown",
   "metadata": {},
   "source": [
    "### island\n",
    "Species is also a categorical variable and as we saw earlier, also contains just three possible values - Biscoe, Dream and Torgersen. The most appropriate plot to use would also be a bar chart showing the frequency/count of each island."
   ]
  },
  {
   "cell_type": "code",
   "execution_count": null,
   "metadata": {},
   "outputs": [],
   "source": [
    "# island\n",
    "\n",
    "# Create a list just for island and generate a bar chart\n",
    "\n",
    "import matplotlib.pyplot as plt\n",
    "\n",
    "island_l = []\n",
    "for x in df['island']:\n",
    "    island_l.append(x)\n",
    "\n",
    "plt.title(\"Island\")\n",
    "plt.ylabel(\"Frequency\")\n",
    "temp=np.unique(island_l)\n",
    "freq_list = []\n",
    "for x in temp:\n",
    "    freq_list.append(island_l.count(x))\n",
    "\n",
    "plt.bar(temp, freq_list)\n",
    "plt.show;"
   ]
  },
  {
   "cell_type": "markdown",
   "metadata": {},
   "source": [
    "### sex\n",
    "Sex is another categorical variable and contains just two possible values - Male and Female. The most appropriate plot to use could be a bar chart showing the frequency/count of each sex or we could also use a pie chart showing the breakdown to include the percentages of male/female."
   ]
  },
  {
   "cell_type": "code",
   "execution_count": null,
   "metadata": {},
   "outputs": [],
   "source": [
    "# sex\n",
    "\n",
    "# Create a list just for sex and generate a bar chart\n",
    "\n",
    "import matplotlib.pyplot as plt\n",
    "\n",
    "sex_l = []\n",
    "\n",
    "for x in df['sex']:\n",
    "    if str(x) != \"nan\":\n",
    "        sex_l.append(x)\n",
    "\n",
    "temp=np.unique(sex_l)\n",
    "freq_list = []\n",
    "for x in temp:\n",
    "    freq_list.append(sex_l.count(x))\n",
    "\n",
    "plt.title(\"Sex\")\n",
    "plt.pie(freq_list, labels = temp, autopct='%.2f')\n",
    "plt.show;"
   ]
  },
  {
   "cell_type": "markdown",
   "metadata": {},
   "source": [
    "### flipper_length\n",
    "Flipper_length is a quantative variable with numeric values which are ordinal. The most interesting features for a set of data like this could be basic statistics such as min, max, mean and also the overall summary of data. The most appropriate plot to show these values would be a histogram. Given the variance by species it would make sense to plot the three species seperately rather than as a single data set."
   ]
  },
  {
   "cell_type": "code",
   "execution_count": null,
   "metadata": {},
   "outputs": [],
   "source": [
    "# Create a list just for flipper_length and create a histogram\n",
    "\n",
    "flipper_length_gentoo_l=df.loc[df[\"species\"]==\"Gentoo\"]\n",
    "flipper_length_chinstrap_l=df.loc[df[\"species\"]==\"Chinstrap\"]\n",
    "flipper_length_adelie_l=df.loc[df[\"species\"]==\"Adelie\"]\n",
    "\n",
    "# Add title and labels\n",
    "plt.title(\"Flipper Length\")\n",
    "plt.xlabel(\"Length (mm)\")\n",
    "plt.ylabel(\"Frequency\")\n",
    "\n",
    "# Create the plots\n",
    "plt.hist(flipper_length_gentoo_l[\"flipper_length_mm\"],label='Gentoo')\n",
    "plt.hist(flipper_length_adelie_l[\"flipper_length_mm\"],label='Adelie')\n",
    "plt.hist(flipper_length_chinstrap_l[\"flipper_length_mm\"],label='Chinstrap')\n",
    "plt.legend();"
   ]
  },
  {
   "cell_type": "markdown",
   "metadata": {},
   "source": [
    "### body_mass\n",
    "Body_mass is also a quantative variable with numeric values which are ordinal. Again, the most interesting features for a set of data like this could be basic statistics such as min, max, mean and also the overall summary of data. The most appropriate plot to show these values would be a histogram. And, given the variance by species it would make sense to plot the three species seperately rather than as a single data set."
   ]
  },
  {
   "cell_type": "code",
   "execution_count": null,
   "metadata": {},
   "outputs": [],
   "source": [
    "# Create a list just for body_mass and create a histogram\n",
    "\n",
    "body_mass_gentoo_l=df.loc[df[\"species\"]==\"Gentoo\"]\n",
    "body_mass_chinstrap_l=df.loc[df[\"species\"]==\"Chinstrap\"]\n",
    "body_mass_adelie_l=df.loc[df[\"species\"]==\"Adelie\"]\n",
    "\n",
    "# Add title and labels\n",
    "plt.title(\"Body Mass\")\n",
    "plt.xlabel(\"Weight (g)\")\n",
    "plt.ylabel(\"Frequency\")\n",
    "\n",
    "# Create the plots\n",
    "plt.hist(body_mass_gentoo_l[\"body_mass_g\"],label='Gentoo')\n",
    "plt.hist(body_mass_adelie_l[\"body_mass_g\"],label='Adelie')\n",
    "plt.hist(body_mass_chinstrap_l[\"body_mass_g\"],label='Chinstrap')\n",
    "plt.legend();"
   ]
  },
  {
   "cell_type": "markdown",
   "metadata": {},
   "source": [
    "### bill_length\n",
    "Bill_length is a quantative variable with numeric values which are ordinal. The most interesting features for a set of data like this could be basic statistics such as min, max, mean and also the overall summary of data. The most appropriate plot to show these values would be a histogram. Given the variance by species it would make sense to plot the three species seperately rather than as a single data set."
   ]
  },
  {
   "cell_type": "code",
   "execution_count": null,
   "metadata": {},
   "outputs": [],
   "source": [
    "# Create a list just for bill_length and create a histogram\n",
    "\n",
    "bil_length_gentoo_l=df.loc[df[\"species\"]==\"Gentoo\"]\n",
    "bill_length_chinstrap_l=df.loc[df[\"species\"]==\"Chinstrap\"]\n",
    "bill_length_adelie_l=df.loc[df[\"species\"]==\"Adelie\"]\n",
    "\n",
    "# Add title and labels\n",
    "plt.title(\"Bill Length\")\n",
    "plt.xlabel(\"Length (mm)\")\n",
    "plt.ylabel(\"Frequency\")\n",
    "\n",
    "# create the plots\n",
    "plt.hist(bil_length_gentoo_l[\"bill_length_mm\"],label='Gentoo')\n",
    "plt.hist(bill_length_adelie_l[\"bill_length_mm\"],label='Adelie')\n",
    "plt.hist(bill_length_chinstrap_l[\"bill_length_mm\"],label='Chinstrap')\n",
    "plt.legend();\n"
   ]
  },
  {
   "cell_type": "markdown",
   "metadata": {},
   "source": [
    "### bill depth\n",
    "Bill_depth is likewise a quantative variable with numeric values which are ordinal. Again, the most interesting features for a set of data like this could be basic statistics such as min, max, mean and also the overall summary of data. The most appropriate plot to show these values would be a histogram and as above with bill_length, iven the variance by species it would make sense to plot the three species seperately rather than as a single data set."
   ]
  },
  {
   "cell_type": "code",
   "execution_count": null,
   "metadata": {},
   "outputs": [],
   "source": [
    "# Create a list just for bill_depth and create a histogram\n",
    "\n",
    "bill_depth_gentoo_l=df.loc[df[\"species\"]==\"Gentoo\"]\n",
    "bill_depth_chinstrap_l=df.loc[df[\"species\"]==\"Chinstrap\"]\n",
    "bill_depth_adelie_l=df.loc[df[\"species\"]==\"Adelie\"]\n",
    "\n",
    "# Add title and labels\n",
    "plt.title(\"Bill Depth\")\n",
    "plt.xlabel(\"Depth (mm)\")\n",
    "plt.ylabel(\"Frequency\")\n",
    "\n",
    "# Create the plots\n",
    "plt.hist(bill_depth_gentoo_l[\"bill_depth_mm\"],label='Gentoo')\n",
    "plt.hist(bill_depth_adelie_l[\"bill_depth_mm\"],label='Adelie')\n",
    "plt.hist(bill_depth_chinstrap_l[\"bill_depth_mm\"],label='Chinstrap')\n",
    "plt.legend();"
   ]
  },
  {
   "cell_type": "markdown",
   "metadata": {},
   "source": [
    "Given that bill_length and bill_depth are related, rather than showing them as individual plots as above, we could visualise the data using a scatterplot to give a true reflection of the relationship between the variables."
   ]
  },
  {
   "cell_type": "code",
   "execution_count": null,
   "metadata": {},
   "outputs": [],
   "source": [
    "# Create a scatter plot to compare bill_length and bill_depth\n",
    "\n",
    "plt.scatter(df['bill_length_mm'], df['bill_depth_mm'], label='Bill Length | Bill Depth\\n')\n",
    "plt.title('Bill Length | Bill Depth')\n",
    "plt.xlabel('Bill Length (mm)')\n",
    "plt.ylabel('Bill Depth (mm)');"
   ]
  },
  {
   "cell_type": "markdown",
   "metadata": {},
   "source": [
    "# References\n",
    "\n",
    "$^1$ mwaskom/seaborn-data: Data repository for seaborn examples. Aug. 30, 2023. url: https://github.com/mwaskom/ seaborn - data / blob / master / penguins.csv (visited on 10/25/2023)\n"
   ]
  },
  {
   "cell_type": "markdown",
   "metadata": {},
   "source": [
    "***\n",
    "\n",
    "## End"
   ]
  }
 ],
 "metadata": {
  "kernelspec": {
   "display_name": "base",
   "language": "python",
   "name": "python3"
  },
  "language_info": {
   "codemirror_mode": {
    "name": "ipython",
    "version": 3
   },
   "file_extension": ".py",
   "mimetype": "text/x-python",
   "name": "python",
   "nbconvert_exporter": "python",
   "pygments_lexer": "ipython3",
   "version": "3.11.4"
  },
  "orig_nbformat": 4
 },
 "nbformat": 4,
 "nbformat_minor": 2
}
