{
 "cells": [
  {
   "cell_type": "markdown",
   "metadata": {},
   "source": [
    "# Fundamentals of Data Analysis Tasks\n",
    "\n",
    "Phelim Barry\n",
    "\n",
    "***"
   ]
  },
  {
   "cell_type": "markdown",
   "metadata": {},
   "source": [
    "***Task1***\n",
    "\n",
    ">The Collatz conjecture is a famous unsolved problem in mathematics. The problem is to prove that if you start with any positive integer $x$ and repeatedly apply the function $f(x)$ below, you always get stuck in the repeating sequence 1, 4, 2, 1, 4, 2, . . .   \n",
    "This task is to verify, using Python, that the conjecture is true for the first 10,000 positive integers.\n",
    "\n",
    "If $x$ is even, $f(x) = x ÷ 2$   \n",
    "If $x$ is odd, $f(x) = 3x + 1$"
   ]
  },
  {
   "cell_type": "markdown",
   "metadata": {},
   "source": [
    "Define a function for $f(x)$ and apply the appropriate formula. Using the modulus operator we can determine if $x$ is even (i.e. no remainder when divided by 2) or else $x$ must be odd."
   ]
  },
  {
   "cell_type": "code",
   "execution_count": 1,
   "metadata": {},
   "outputs": [],
   "source": [
    "def f(x):\n",
    "    if x % 2 == 0:          #x is even\n",
    "        return x // 2\n",
    "    else:                   #x is odd\n",
    "        return (3 * x) + 1"
   ]
  },
  {
   "cell_type": "markdown",
   "metadata": {},
   "source": [
    "Define a function to check the $x$ value. If after applying the formula to the number, we arrive at a value equal to 1 then we have proved for that number and move on to the next number. If we reach the number 10001 then we have proved for all numbers between 1 and 10000"
   ]
  },
  {
   "cell_type": "code",
   "execution_count": 2,
   "metadata": {},
   "outputs": [],
   "source": [
    "def collatz(x):\n",
    "    while x != 1:\n",
    "        x = f(x)            #call the f(x) function"
   ]
  },
  {
   "cell_type": "markdown",
   "metadata": {},
   "source": [
    "Run the function and print a confirmation message once complete."
   ]
  },
  {
   "cell_type": "code",
   "execution_count": 3,
   "metadata": {},
   "outputs": [
    {
     "name": "stdout",
     "output_type": "stream",
     "text": [
      "We have cycled through the values from 1 to 10000 and each time ended with a value of 1 \n",
      "indicating the conjecture is true for the first 10000 positive integers\n"
     ]
    }
   ],
   "source": [
    "# Define start and end range values\n",
    "start_range = 1\n",
    "stop_range = 10001\n",
    "\n",
    "for num in range (start_range, stop_range):\n",
    "    collatz(num)        #call the collatz function\n",
    "\n",
    "print (f'We have cycled through the values from {start_range} to {stop_range-1} and each time ended with a value of 1 \\nindicating the conjecture is true for the first {stop_range-1} positive integers')\n"
   ]
  },
  {
   "cell_type": "markdown",
   "metadata": {},
   "source": [
    "***Task2***\n",
    "\n",
    "\n",
    ">The purpose of this task is to give an overview of the penguins data set explaining the types of variables it contains.\n",
    "\n",
    ">We will also suggest the types of variables that should be used to model them in Python giving explanations for the rationale."
   ]
  },
  {
   "cell_type": "markdown",
   "metadata": {},
   "source": [
    "**Overview**\n",
    "\n",
    "The Palmer Penguin Dataset contains measurements of three different species of penguins from three islands in the Palmer Archipelago in Antartica. The data were collected between 2007 and 2009 and made available by researcher Dr. Kristen Gorman and other researchers from the Palmer Research Station.\n",
    "\n",
    "Similar to the Iris dataset it is often used to explore areas of data analysis such as correlation and regression.\n",
    " "
   ]
  },
  {
   "cell_type": "markdown",
   "metadata": {},
   "source": [
    "The dataset has seven columns of data containing the following variables:\n",
    "\n",
    "| Variable Name | Type | Description |\n",
    "| --- | --- | --- |\n",
    "| species | categorical | species of penguin (Adelie, Chinstrap or Gentoo) |\n",
    "| island | categorical | island found on (Biscoe, Dream or Torgersen) |\n",
    "| sex | categorical | gender of the penguin (male or female) |\n",
    "| bill_length | numeric/real | length of penguins bill measured in mm |\n",
    "| bill_depth | numeric/real | depth of penguins bill measured in mm  |\n",
    "| flipper_length | numeric/real | length of penguins flipper measured in mm |\n",
    "| body_mass | numeric/real | weight of penguins measured in grams |\n",
    " "
   ]
  },
  {
   "cell_type": "markdown",
   "metadata": {},
   "source": [
    "Categorical variable types are used when the variable can only be one of a specific list of values or used to describe qualitative data. In the penguins dataset the three categorical variables have very specific values.   \n",
    "Species has three values: Adelie, Chinstrap and Gentoo. Island also has three values: Biscoe, Dream and Torgersen. Sex has two values: male and female.   \n",
    "All three of these variables can be described as nominal as they are used to name something.   \n",
    "\n",
    "Numeric variable types are also known as quantitative variables because they typically are used to measure something using a number value. The penguins dataset contains four numeric variables with three measured in millimeters and one measured in grams. These are continuous variables and can be further broken down and described as ratio variables because they cantain numbers that have measurable differences that can be determined such as the differences in lengths, weights etc. Given that all four of the variables are being used to measure something they would be considered to be using real numbers. The presence of decimal places in three of the variables also points to them being real numbers."
   ]
  },
  {
   "cell_type": "markdown",
   "metadata": {},
   "source": [
    "**Suggested Variable Types in Python**\n",
    "\n",
    "To model each of the variables in Python...\n",
    "\n",
    "\n",
    "| Variable Name | Type | Python Variable Type |\n",
    "| --- | --- | --- |\n",
    "| species | categorical | string |\n",
    "| island | categorical | string |\n",
    "| sex | categorical | string |\n",
    "| bill_length | numeric/real | float |\n",
    "| bill_depth | numeric/real | float  |\n",
    "| flipper_length | numeric/real | float |\n",
    "| body_mass | numeric/real | float OR int |\n",
    "\n",
    "Species, Island and sex - model as type string - contain fixed values, alpha characters and we won't be performing any mathematical calculations on them...\n",
    "\n",
    "Numeric values in python usually are defined as type ```int``` or ```float``` (can also be complex). ```int``` variable types are whole numbers with no decimal places. They are ideal for performing addition or subtraction but if we are to perform any arithmetic involving division such as calculating means or average values, then our calculated value would turn into a ```float``` by default python logic. ```float``` or floating-point variables are used to store values with decimal points. Arithmetic on float values will always result in another float value and will display a value after the decimal point even if the value is $.0$.   \n",
    "\n",
    "With this in mind it would be best to model bill_length, bill_depth and flipper_length as type ```float``` because all three contain decimal values. \n",
    "body_mass could be stored in an ```int``` variable as it does not contain decimals however if we needed to convert the value to kilograms then that would introduce decimal places so it would be best to store as a ```float``` also.\n"
   ]
  },
  {
   "cell_type": "markdown",
   "metadata": {},
   "source": [
    "Maybe move this somewhere else - Task5 maybe or above as part of the overview\n",
    "\n",
    "In total, there are 344 rows of data in the dataset. However, unlike the iris dataset, the penguins dataset has some missing values as follows:  \n",
    "\n",
    "| Variable Name | Missing Count |\n",
    "| --- | --- |\n",
    "| sex | 11 |\n",
    "|bill_length_mm |2 |\n",
    "|bill_depth_mm | 2 |\n",
    "|flipper_length | 2 |\n",
    "|body_mass_g | 2 |"
   ]
  },
  {
   "cell_type": "markdown",
   "metadata": {},
   "source": [
    "***Task3***\n",
    "\n",
    ">Add Task3 description..."
   ]
  },
  {
   "cell_type": "markdown",
   "metadata": {},
   "source": [
    "***Task4***\n",
    "\n",
    ">Add Task4 description..."
   ]
  },
  {
   "cell_type": "markdown",
   "metadata": {},
   "source": [
    "***Task5***\n",
    "\n",
    ">Add Task5 description..."
   ]
  },
  {
   "cell_type": "code",
   "execution_count": 4,
   "metadata": {},
   "outputs": [],
   "source": [
    "#Import pandas and seaborn and load the penguins data set into a new dataframe df\n",
    "import pandas as pd\n",
    "import seaborn as sns\n",
    "\n",
    "df=sns.load_dataset ('penguins')\n",
    "\n",
    "#df"
   ]
  },
  {
   "cell_type": "code",
   "execution_count": 5,
   "metadata": {},
   "outputs": [
    {
     "data": {
      "text/plain": [
       "species               object\n",
       "island                object\n",
       "bill_length_mm       float64\n",
       "bill_depth_mm        float64\n",
       "flipper_length_mm    float64\n",
       "body_mass_g          float64\n",
       "sex                   object\n",
       "dtype: object"
      ]
     },
     "execution_count": 5,
     "metadata": {},
     "output_type": "execute_result"
    }
   ],
   "source": [
    "df.dtypes"
   ]
  },
  {
   "cell_type": "markdown",
   "metadata": {},
   "source": [
    "***\n",
    "\n",
    "## End"
   ]
  }
 ],
 "metadata": {
  "kernelspec": {
   "display_name": "base",
   "language": "python",
   "name": "python3"
  },
  "language_info": {
   "codemirror_mode": {
    "name": "ipython",
    "version": 3
   },
   "file_extension": ".py",
   "mimetype": "text/x-python",
   "name": "python",
   "nbconvert_exporter": "python",
   "pygments_lexer": "ipython3",
   "version": "3.11.4"
  },
  "orig_nbformat": 4
 },
 "nbformat": 4,
 "nbformat_minor": 2
}
